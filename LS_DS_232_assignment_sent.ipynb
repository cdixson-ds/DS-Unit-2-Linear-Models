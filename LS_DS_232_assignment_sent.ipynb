{
  "nbformat": 4,
  "nbformat_minor": 0,
  "metadata": {
    "jupytext": {
      "cell_metadata_filter": "-all",
      "main_language": "python",
      "notebook_metadata_filter": "-all"
    },
    "kernelspec": {
      "name": "python3",
      "display_name": "Python 3"
    },
    "language_info": {
      "codemirror_mode": {
        "name": "ipython",
        "version": 3
      },
      "file_extension": ".py",
      "mimetype": "text/x-python",
      "name": "python",
      "nbconvert_exporter": "python",
      "pygments_lexer": "ipython3",
      "version": "3.7.3"
    },
    "colab": {
      "name": "LS_DS_232_assignment_sent.ipynb",
      "provenance": [],
      "include_colab_link": true
    },
    "accelerator": "TPU"
  },
  "cells": [
    {
      "cell_type": "markdown",
      "metadata": {
        "id": "view-in-github",
        "colab_type": "text"
      },
      "source": [
        "<a href=\"https://colab.research.google.com/github/cdixson-ds/DS-Unit-2-Linear-Models/blob/master/LS_DS_232_assignment_sent.ipynb\" target=\"_parent\"><img src=\"https://colab.research.google.com/assets/colab-badge.svg\" alt=\"Open In Colab\"/></a>"
      ]
    },
    {
      "cell_type": "markdown",
      "metadata": {
        "id": "KgA5GDnFH-rK",
        "colab_type": "text"
      },
      "source": [
        "Lambda School Data Science\n",
        "\n",
        "*Unit 2, Sprint 3, Module 1*\n",
        "\n",
        "---\n",
        "\n",
        "\n",
        "# Wrangle ML datasets\n",
        "\n",
        "- [ ] Continue to clean and explore your data. \n",
        "- [ ] For the evaluation metric you chose, what score would you get just by guessing?\n",
        "- [ ] Can you make a fast, first model that beats guessing?\n",
        "\n",
        "**We recommend that you use your portfolio project dataset for all assignments this sprint.**\n",
        "\n",
        "**But if you aren't ready yet, or you want more practice, then use the New York City property sales dataset for today's assignment.** Follow the instructions below, to just keep a subset for the Tribeca neighborhood, and remove outliers or dirty data. [Here's a video walkthrough](https://youtu.be/pPWFw8UtBVg?t=584) you can refer to if you get stuck or want hints!\n",
        "\n",
        "- Data Source: [NYC OpenData: NYC Citywide Rolling Calendar Sales](https://data.cityofnewyork.us/dataset/NYC-Citywide-Rolling-Calendar-Sales/usep-8jbt)\n",
        "- Glossary: [NYC Department of Finance: Rolling Sales Data](https://www1.nyc.gov/site/finance/taxes/property-rolling-sales-data.page)"
      ]
    },
    {
      "cell_type": "markdown",
      "metadata": {
        "id": "W4f1JIGAH-r9",
        "colab_type": "text"
      },
      "source": [
        "Your code starts here:"
      ]
    },
    {
      "cell_type": "code",
      "metadata": {
        "id": "K6eiWLirc9MO",
        "colab_type": "code",
        "colab": {}
      },
      "source": [
        "import pandas as pd"
      ],
      "execution_count": 0,
      "outputs": []
    },
    {
      "cell_type": "code",
      "metadata": {
        "id": "eBfQMMcG0JSC",
        "colab_type": "code",
        "colab": {}
      },
      "source": [
        "#1qg7bNIC4RBn-OEsbu7tYHzGYf4p6Hv93\n",
        "\n",
        "\n",
        "train = pd.read_csv('https://drive.google.com/u/0/uc?id=1qg7bNIC4RBn-OEsbu7tYHzGYf4p6Hv93&export=download')"
      ],
      "execution_count": 0,
      "outputs": []
    },
    {
      "cell_type": "code",
      "metadata": {
        "id": "iQsfNSWmgOi3",
        "colab_type": "code",
        "colab": {
          "base_uri": "https://localhost:8080/",
          "height": 198
        },
        "outputId": "f041a5ba-af79-4136-932f-e2bd8d15a993"
      },
      "source": [
        "train.head()"
      ],
      "execution_count": 83,
      "outputs": [
        {
          "output_type": "execute_result",
          "data": {
            "text/html": [
              "<div>\n",
              "<style scoped>\n",
              "    .dataframe tbody tr th:only-of-type {\n",
              "        vertical-align: middle;\n",
              "    }\n",
              "\n",
              "    .dataframe tbody tr th {\n",
              "        vertical-align: top;\n",
              "    }\n",
              "\n",
              "    .dataframe thead th {\n",
              "        text-align: right;\n",
              "    }\n",
              "</style>\n",
              "<table border=\"1\" class=\"dataframe\">\n",
              "  <thead>\n",
              "    <tr style=\"text-align: right;\">\n",
              "      <th></th>\n",
              "      <th>text</th>\n",
              "      <th>label</th>\n",
              "    </tr>\n",
              "  </thead>\n",
              "  <tbody>\n",
              "    <tr>\n",
              "      <th>0</th>\n",
              "      <td>I always wrote this series off as being a comp...</td>\n",
              "      <td>0</td>\n",
              "    </tr>\n",
              "    <tr>\n",
              "      <th>1</th>\n",
              "      <td>1st watched 12/7/2002 - 3 out of 10(Dir-Steve ...</td>\n",
              "      <td>0</td>\n",
              "    </tr>\n",
              "    <tr>\n",
              "      <th>2</th>\n",
              "      <td>This movie was so poorly written and directed ...</td>\n",
              "      <td>0</td>\n",
              "    </tr>\n",
              "    <tr>\n",
              "      <th>3</th>\n",
              "      <td>The most interesting thing about Miryang (Secr...</td>\n",
              "      <td>1</td>\n",
              "    </tr>\n",
              "    <tr>\n",
              "      <th>4</th>\n",
              "      <td>when i first read about \"berlin am meer\" i did...</td>\n",
              "      <td>0</td>\n",
              "    </tr>\n",
              "  </tbody>\n",
              "</table>\n",
              "</div>"
            ],
            "text/plain": [
              "                                                text  label\n",
              "0  I always wrote this series off as being a comp...      0\n",
              "1  1st watched 12/7/2002 - 3 out of 10(Dir-Steve ...      0\n",
              "2  This movie was so poorly written and directed ...      0\n",
              "3  The most interesting thing about Miryang (Secr...      1\n",
              "4  when i first read about \"berlin am meer\" i did...      0"
            ]
          },
          "metadata": {
            "tags": []
          },
          "execution_count": 83
        }
      ]
    },
    {
      "cell_type": "code",
      "metadata": {
        "id": "qmyq1_S7hHcC",
        "colab_type": "code",
        "colab": {}
      },
      "source": [
        "#Test\n",
        "\n",
        "test = pd.read_csv('https://drive.google.com/u/0/uc?id=1VRohT0ss61yxRNLJnPuR9fG98LHjESqh&export=download')"
      ],
      "execution_count": 0,
      "outputs": []
    },
    {
      "cell_type": "code",
      "metadata": {
        "id": "VJmJJAcOSHA6",
        "colab_type": "code",
        "colab": {
          "base_uri": "https://localhost:8080/",
          "height": 198
        },
        "outputId": "304d9787-d70a-4898-b41f-13b4826b5e5e"
      },
      "source": [
        "test.head()"
      ],
      "execution_count": 85,
      "outputs": [
        {
          "output_type": "execute_result",
          "data": {
            "text/html": [
              "<div>\n",
              "<style scoped>\n",
              "    .dataframe tbody tr th:only-of-type {\n",
              "        vertical-align: middle;\n",
              "    }\n",
              "\n",
              "    .dataframe tbody tr th {\n",
              "        vertical-align: top;\n",
              "    }\n",
              "\n",
              "    .dataframe thead th {\n",
              "        text-align: right;\n",
              "    }\n",
              "</style>\n",
              "<table border=\"1\" class=\"dataframe\">\n",
              "  <thead>\n",
              "    <tr style=\"text-align: right;\">\n",
              "      <th></th>\n",
              "      <th>text</th>\n",
              "      <th>label</th>\n",
              "    </tr>\n",
              "  </thead>\n",
              "  <tbody>\n",
              "    <tr>\n",
              "      <th>0</th>\n",
              "      <td>I grew up (b. 1965) watching and loving the Th...</td>\n",
              "      <td>0</td>\n",
              "    </tr>\n",
              "    <tr>\n",
              "      <th>1</th>\n",
              "      <td>When I put this movie in my DVD player, and sa...</td>\n",
              "      <td>0</td>\n",
              "    </tr>\n",
              "    <tr>\n",
              "      <th>2</th>\n",
              "      <td>Why do people who do not know what a particula...</td>\n",
              "      <td>0</td>\n",
              "    </tr>\n",
              "    <tr>\n",
              "      <th>3</th>\n",
              "      <td>Even though I have great interest in Biblical ...</td>\n",
              "      <td>0</td>\n",
              "    </tr>\n",
              "    <tr>\n",
              "      <th>4</th>\n",
              "      <td>Im a die hard Dads Army fan and nothing will e...</td>\n",
              "      <td>1</td>\n",
              "    </tr>\n",
              "  </tbody>\n",
              "</table>\n",
              "</div>"
            ],
            "text/plain": [
              "                                                text  label\n",
              "0  I grew up (b. 1965) watching and loving the Th...      0\n",
              "1  When I put this movie in my DVD player, and sa...      0\n",
              "2  Why do people who do not know what a particula...      0\n",
              "3  Even though I have great interest in Biblical ...      0\n",
              "4  Im a die hard Dads Army fan and nothing will e...      1"
            ]
          },
          "metadata": {
            "tags": []
          },
          "execution_count": 85
        }
      ]
    },
    {
      "cell_type": "code",
      "metadata": {
        "id": "ieNJrDihc8LC",
        "colab_type": "code",
        "colab": {}
      },
      "source": [
        "#Valid\n",
        "\n",
        "valid = pd.read_csv('https://drive.google.com/u/0/uc?id=1pSXQ0pNY3Hmnj9btfZGgPp4bDB_R-JFh&export=download')"
      ],
      "execution_count": 0,
      "outputs": []
    },
    {
      "cell_type": "code",
      "metadata": {
        "id": "Ln_Oe_H8ltZ7",
        "colab_type": "code",
        "colab": {
          "base_uri": "https://localhost:8080/",
          "height": 198
        },
        "outputId": "45b7be72-e332-46e2-8469-14c614ce6aa5"
      },
      "source": [
        "valid.head()"
      ],
      "execution_count": 87,
      "outputs": [
        {
          "output_type": "execute_result",
          "data": {
            "text/html": [
              "<div>\n",
              "<style scoped>\n",
              "    .dataframe tbody tr th:only-of-type {\n",
              "        vertical-align: middle;\n",
              "    }\n",
              "\n",
              "    .dataframe tbody tr th {\n",
              "        vertical-align: top;\n",
              "    }\n",
              "\n",
              "    .dataframe thead th {\n",
              "        text-align: right;\n",
              "    }\n",
              "</style>\n",
              "<table border=\"1\" class=\"dataframe\">\n",
              "  <thead>\n",
              "    <tr style=\"text-align: right;\">\n",
              "      <th></th>\n",
              "      <th>text</th>\n",
              "      <th>label</th>\n",
              "    </tr>\n",
              "  </thead>\n",
              "  <tbody>\n",
              "    <tr>\n",
              "      <th>0</th>\n",
              "      <td>It's been about 14 years since Sharon Stone aw...</td>\n",
              "      <td>0</td>\n",
              "    </tr>\n",
              "    <tr>\n",
              "      <th>1</th>\n",
              "      <td>someone needed to make a car payment... this i...</td>\n",
              "      <td>0</td>\n",
              "    </tr>\n",
              "    <tr>\n",
              "      <th>2</th>\n",
              "      <td>The Guidelines state that a comment must conta...</td>\n",
              "      <td>0</td>\n",
              "    </tr>\n",
              "    <tr>\n",
              "      <th>3</th>\n",
              "      <td>This movie is a muddled mish-mash of clichés f...</td>\n",
              "      <td>0</td>\n",
              "    </tr>\n",
              "    <tr>\n",
              "      <th>4</th>\n",
              "      <td>Before Stan Laurel became the smaller half of ...</td>\n",
              "      <td>0</td>\n",
              "    </tr>\n",
              "  </tbody>\n",
              "</table>\n",
              "</div>"
            ],
            "text/plain": [
              "                                                text  label\n",
              "0  It's been about 14 years since Sharon Stone aw...      0\n",
              "1  someone needed to make a car payment... this i...      0\n",
              "2  The Guidelines state that a comment must conta...      0\n",
              "3  This movie is a muddled mish-mash of clichés f...      0\n",
              "4  Before Stan Laurel became the smaller half of ...      0"
            ]
          },
          "metadata": {
            "tags": []
          },
          "execution_count": 87
        }
      ]
    },
    {
      "cell_type": "code",
      "metadata": {
        "id": "SblvBswLW3vZ",
        "colab_type": "code",
        "colab": {}
      },
      "source": [
        "#Test\n",
        "\n",
        "test = pd.read_csv('https://docs.google.com/spreadsheets/d/e/2PACX-1vTrCSMGXWqolVN-dmOe9bFuViD9osD4ABWBZm_2nOryH6jRzJMlFhePcPiqkJpoyvMWScJevfHGPxfT/pub?output=csv')"
      ],
      "execution_count": 0,
      "outputs": []
    },
    {
      "cell_type": "code",
      "metadata": {
        "id": "E9CN2Vzklv3H",
        "colab_type": "code",
        "colab": {
          "base_uri": "https://localhost:8080/",
          "height": 198
        },
        "outputId": "bc091562-a141-4952-b76c-da2e19772915"
      },
      "source": [
        "test.head()"
      ],
      "execution_count": 89,
      "outputs": [
        {
          "output_type": "execute_result",
          "data": {
            "text/html": [
              "<div>\n",
              "<style scoped>\n",
              "    .dataframe tbody tr th:only-of-type {\n",
              "        vertical-align: middle;\n",
              "    }\n",
              "\n",
              "    .dataframe tbody tr th {\n",
              "        vertical-align: top;\n",
              "    }\n",
              "\n",
              "    .dataframe thead th {\n",
              "        text-align: right;\n",
              "    }\n",
              "</style>\n",
              "<table border=\"1\" class=\"dataframe\">\n",
              "  <thead>\n",
              "    <tr style=\"text-align: right;\">\n",
              "      <th></th>\n",
              "      <th>text</th>\n",
              "      <th>label</th>\n",
              "    </tr>\n",
              "  </thead>\n",
              "  <tbody>\n",
              "    <tr>\n",
              "      <th>0</th>\n",
              "      <td>I always wrote this series off as being a comp...</td>\n",
              "      <td>0</td>\n",
              "    </tr>\n",
              "    <tr>\n",
              "      <th>1</th>\n",
              "      <td>1st watched 12/7/2002 - 3 out of 10(Dir-Steve ...</td>\n",
              "      <td>0</td>\n",
              "    </tr>\n",
              "    <tr>\n",
              "      <th>2</th>\n",
              "      <td>This movie was so poorly written and directed ...</td>\n",
              "      <td>0</td>\n",
              "    </tr>\n",
              "    <tr>\n",
              "      <th>3</th>\n",
              "      <td>The most interesting thing about Miryang (Secr...</td>\n",
              "      <td>1</td>\n",
              "    </tr>\n",
              "    <tr>\n",
              "      <th>4</th>\n",
              "      <td>when i first read about berlin am meer i didn'...</td>\n",
              "      <td>0</td>\n",
              "    </tr>\n",
              "  </tbody>\n",
              "</table>\n",
              "</div>"
            ],
            "text/plain": [
              "                                                text  label\n",
              "0  I always wrote this series off as being a comp...      0\n",
              "1  1st watched 12/7/2002 - 3 out of 10(Dir-Steve ...      0\n",
              "2  This movie was so poorly written and directed ...      0\n",
              "3  The most interesting thing about Miryang (Secr...      1\n",
              "4  when i first read about berlin am meer i didn'...      0"
            ]
          },
          "metadata": {
            "tags": []
          },
          "execution_count": 89
        }
      ]
    },
    {
      "cell_type": "markdown",
      "metadata": {
        "id": "S13v2F_haVBa",
        "colab_type": "text"
      },
      "source": [
        "# Choose your target: \n",
        "\n",
        "I am trying to predict the 'label' column which determines if the review is\n",
        "positive or negative"
      ]
    },
    {
      "cell_type": "markdown",
      "metadata": {
        "id": "tlFTW7X9cE0i",
        "colab_type": "text"
      },
      "source": [
        "Classification: This is a classification problem because I am attempting to predict a discrete label\n",
        "\n",
        "Evaluation Metrics: I'm going to "
      ]
    },
    {
      "cell_type": "code",
      "metadata": {
        "id": "W7i1Yas6NlYb",
        "colab_type": "code",
        "colab": {}
      },
      "source": [
        "import numpy as np\n",
        "import tensorflow as tf\n",
        "from tensorflow import keras\n",
        "import pandas as pd\n",
        "import seaborn as sns\n",
        "from pylab import rcParams\n",
        "import string\n",
        "import re\n",
        "import matplotlib.pyplot as plt\n",
        "import math\n",
        "from matplotlib import rc\n",
        "from sklearn.model_selection import train_test_split\n",
        "from collections import Counter, defaultdict\n",
        "from bs4 import BeautifulSoup\n",
        "from sklearn.metrics import accuracy_score\n",
        "from sklearn.metrics import classification_report, confusion_matrix\n",
        "import nltk\n",
        "from nltk.corpus import stopwords\n",
        "from wordcloud import WordCloud"
      ],
      "execution_count": 0,
      "outputs": []
    },
    {
      "cell_type": "code",
      "metadata": {
        "id": "igPBxWjbHIdj",
        "colab_type": "code",
        "colab": {}
      },
      "source": [
        "#train = pd.read_csv('Train.csv')"
      ],
      "execution_count": 0,
      "outputs": []
    },
    {
      "cell_type": "code",
      "metadata": {
        "id": "1svJM2QSLS92",
        "colab_type": "code",
        "colab": {}
      },
      "source": [
        "#target = label\n",
        "\n",
        "#train.head()"
      ],
      "execution_count": 0,
      "outputs": []
    },
    {
      "cell_type": "code",
      "metadata": {
        "id": "go7idEX_KIfx",
        "colab_type": "code",
        "colab": {}
      },
      "source": [
        "#test = pd.read_csv('Test.csv')"
      ],
      "execution_count": 0,
      "outputs": []
    },
    {
      "cell_type": "code",
      "metadata": {
        "id": "V1fSXeS_KM9p",
        "colab_type": "code",
        "colab": {}
      },
      "source": [
        "#valid = pd.read_csv('Valid.csv')"
      ],
      "execution_count": 0,
      "outputs": []
    },
    {
      "cell_type": "code",
      "metadata": {
        "id": "hIjzNPLeOKaY",
        "colab_type": "code",
        "outputId": "1d9df450-ac00-4237-d135-2558c70344b7",
        "colab": {
          "base_uri": "https://localhost:8080/",
          "height": 72
        }
      },
      "source": [
        "%matplotlib inline\n",
        "\n",
        "sns.set(style='whitegrid', palette='muted', font_scale=1.5)\n",
        "\n",
        "rcParams['figure.figsize'] = 7, 4\n",
        "\n",
        "RANDOM_SEED = 42\n",
        "\n",
        "np.random.seed(RANDOM_SEED)\n",
        "nltk.download('stopwords')"
      ],
      "execution_count": 113,
      "outputs": [
        {
          "output_type": "stream",
          "text": [
            "[nltk_data] Downloading package stopwords to /root/nltk_data...\n",
            "[nltk_data]   Package stopwords is already up-to-date!\n"
          ],
          "name": "stdout"
        },
        {
          "output_type": "execute_result",
          "data": {
            "text/plain": [
              "True"
            ]
          },
          "metadata": {
            "tags": []
          },
          "execution_count": 113
        }
      ]
    },
    {
      "cell_type": "markdown",
      "metadata": {
        "id": "CKHaFp7hbZ1Q",
        "colab_type": "text"
      },
      "source": [
        "Find Distribution: because the distribution is balanced I will use accuracy as an evaluation metric"
      ]
    },
    {
      "cell_type": "code",
      "metadata": {
        "id": "e3cL-16FbeHJ",
        "colab_type": "code",
        "outputId": "48c91233-2108-478e-a089-fff166fc7548",
        "colab": {
          "base_uri": "https://localhost:8080/",
          "height": 72
        }
      },
      "source": [
        "#Distribution is balanced\n",
        "\n",
        "train['label'].value_counts(True)"
      ],
      "execution_count": 114,
      "outputs": [
        {
          "output_type": "execute_result",
          "data": {
            "text/plain": [
              "1    0.501\n",
              "0    0.499\n",
              "Name: label, dtype: float64"
            ]
          },
          "metadata": {
            "tags": []
          },
          "execution_count": 114
        }
      ]
    },
    {
      "cell_type": "code",
      "metadata": {
        "id": "bJXbfTcsN0ku",
        "colab_type": "code",
        "outputId": "6e8d023d-639f-446d-b6c2-4116f516c267",
        "colab": {
          "base_uri": "https://localhost:8080/",
          "height": 296
        }
      },
      "source": [
        "#Distribution bar plot\n",
        "\n",
        "f = sns.countplot(x = 'label', data=train)\n",
        "f.set_title(\"Sentiment distribution\")\n",
        "f.set_xticklabels(['Negative', 'Positive'])\n",
        "plt.xlabel(\"\")\n",
        "plt.show()"
      ],
      "execution_count": 115,
      "outputs": [
        {
          "output_type": "display_data",
          "data": {
            "image/png": "[encoded data removed]",
            "text/plain": [
              "<Figure size 504x288 with 1 Axes>"
            ]
          },
          "metadata": {
            "tags": []
          }
        }
      ]
    },
    {
      "cell_type": "code",
      "metadata": {
        "id": "hWnUBmw8j276",
        "colab_type": "code",
        "outputId": "9b41dd7c-ce78-432f-f9b1-526b0997d15f",
        "colab": {
          "base_uri": "https://localhost:8080/",
          "height": 168
        }
      },
      "source": [
        "train.groupby('label').describe()"
      ],
      "execution_count": 116,
      "outputs": [
        {
          "output_type": "execute_result",
          "data": {
            "text/html": [
              "<div>\n",
              "<style scoped>\n",
              "    .dataframe tbody tr th:only-of-type {\n",
              "        vertical-align: middle;\n",
              "    }\n",
              "\n",
              "    .dataframe tbody tr th {\n",
              "        vertical-align: top;\n",
              "    }\n",
              "\n",
              "    .dataframe thead tr th {\n",
              "        text-align: left;\n",
              "    }\n",
              "\n",
              "    .dataframe thead tr:last-of-type th {\n",
              "        text-align: right;\n",
              "    }\n",
              "</style>\n",
              "<table border=\"1\" class=\"dataframe\">\n",
              "  <thead>\n",
              "    <tr>\n",
              "      <th></th>\n",
              "      <th colspan=\"8\" halign=\"left\">length</th>\n",
              "      <th colspan=\"8\" halign=\"left\">length_clean_review</th>\n",
              "    </tr>\n",
              "    <tr>\n",
              "      <th></th>\n",
              "      <th>count</th>\n",
              "      <th>mean</th>\n",
              "      <th>std</th>\n",
              "      <th>min</th>\n",
              "      <th>25%</th>\n",
              "      <th>50%</th>\n",
              "      <th>75%</th>\n",
              "      <th>max</th>\n",
              "      <th>count</th>\n",
              "      <th>mean</th>\n",
              "      <th>std</th>\n",
              "      <th>min</th>\n",
              "      <th>25%</th>\n",
              "      <th>50%</th>\n",
              "      <th>75%</th>\n",
              "      <th>max</th>\n",
              "    </tr>\n",
              "    <tr>\n",
              "      <th>label</th>\n",
              "      <th></th>\n",
              "      <th></th>\n",
              "      <th></th>\n",
              "      <th></th>\n",
              "      <th></th>\n",
              "      <th></th>\n",
              "      <th></th>\n",
              "      <th></th>\n",
              "      <th></th>\n",
              "      <th></th>\n",
              "      <th></th>\n",
              "      <th></th>\n",
              "      <th></th>\n",
              "      <th></th>\n",
              "      <th></th>\n",
              "      <th></th>\n",
              "    </tr>\n",
              "  </thead>\n",
              "  <tbody>\n",
              "    <tr>\n",
              "      <th>0</th>\n",
              "      <td>2495.0</td>\n",
              "      <td>1326.173547</td>\n",
              "      <td>987.000052</td>\n",
              "      <td>111.0</td>\n",
              "      <td>717.0</td>\n",
              "      <td>991.0</td>\n",
              "      <td>1609.0</td>\n",
              "      <td>6124.0</td>\n",
              "      <td>2495.0</td>\n",
              "      <td>119.225251</td>\n",
              "      <td>88.200520</td>\n",
              "      <td>8.0</td>\n",
              "      <td>65.0</td>\n",
              "      <td>90.0</td>\n",
              "      <td>144.0</td>\n",
              "      <td>563.0</td>\n",
              "    </tr>\n",
              "    <tr>\n",
              "      <th>1</th>\n",
              "      <td>2505.0</td>\n",
              "      <td>1303.065070</td>\n",
              "      <td>1033.130891</td>\n",
              "      <td>67.0</td>\n",
              "      <td>695.0</td>\n",
              "      <td>953.0</td>\n",
              "      <td>1561.0</td>\n",
              "      <td>12930.0</td>\n",
              "      <td>2505.0</td>\n",
              "      <td>118.028343</td>\n",
              "      <td>93.514822</td>\n",
              "      <td>7.0</td>\n",
              "      <td>63.0</td>\n",
              "      <td>86.0</td>\n",
              "      <td>142.0</td>\n",
              "      <td>1135.0</td>\n",
              "    </tr>\n",
              "  </tbody>\n",
              "</table>\n",
              "</div>"
            ],
            "text/plain": [
              "       length                                   ... length_clean_review                     \n",
              "        count         mean          std    min  ...                 25%   50%    75%     max\n",
              "label                                           ...                                         \n",
              "0      2495.0  1326.173547   987.000052  111.0  ...                65.0  90.0  144.0   563.0\n",
              "1      2505.0  1303.065070  1033.130891   67.0  ...                63.0  86.0  142.0  1135.0\n",
              "\n",
              "[2 rows x 16 columns]"
            ]
          },
          "metadata": {
            "tags": []
          },
          "execution_count": 116
        }
      ]
    },
    {
      "cell_type": "code",
      "metadata": {
        "id": "7dbpdB8FkKap",
        "colab_type": "code",
        "outputId": "07c6f4bc-380d-407e-aab6-846b0e70306c",
        "colab": {
          "base_uri": "https://localhost:8080/",
          "height": 198
        }
      },
      "source": [
        "#Create a length column\n",
        "\n",
        "train['length'] = train['text'].apply(len)\n",
        "train.head()"
      ],
      "execution_count": 117,
      "outputs": [
        {
          "output_type": "execute_result",
          "data": {
            "text/html": [
              "<div>\n",
              "<style scoped>\n",
              "    .dataframe tbody tr th:only-of-type {\n",
              "        vertical-align: middle;\n",
              "    }\n",
              "\n",
              "    .dataframe tbody tr th {\n",
              "        vertical-align: top;\n",
              "    }\n",
              "\n",
              "    .dataframe thead th {\n",
              "        text-align: right;\n",
              "    }\n",
              "</style>\n",
              "<table border=\"1\" class=\"dataframe\">\n",
              "  <thead>\n",
              "    <tr style=\"text-align: right;\">\n",
              "      <th></th>\n",
              "      <th>text</th>\n",
              "      <th>label</th>\n",
              "      <th>length</th>\n",
              "      <th>clean_review</th>\n",
              "      <th>length_clean_review</th>\n",
              "    </tr>\n",
              "  </thead>\n",
              "  <tbody>\n",
              "    <tr>\n",
              "      <th>0</th>\n",
              "      <td>I always wrote this series off as being a comp...</td>\n",
              "      <td>0</td>\n",
              "      <td>2105</td>\n",
              "      <td>[always, wrote, series, complete, stink, fest,...</td>\n",
              "      <td>197</td>\n",
              "    </tr>\n",
              "    <tr>\n",
              "      <th>1</th>\n",
              "      <td>1st watched 12/7/2002 - 3 out of 10(Dir-Steve ...</td>\n",
              "      <td>0</td>\n",
              "      <td>1070</td>\n",
              "      <td>[st, watched, dir, steve, purcell, typical, ma...</td>\n",
              "      <td>89</td>\n",
              "    </tr>\n",
              "    <tr>\n",
              "      <th>2</th>\n",
              "      <td>This movie was so poorly written and directed ...</td>\n",
              "      <td>0</td>\n",
              "      <td>1402</td>\n",
              "      <td>[movie, poorly, written, directed, fell, aslee...</td>\n",
              "      <td>103</td>\n",
              "    </tr>\n",
              "    <tr>\n",
              "      <th>3</th>\n",
              "      <td>The most interesting thing about Miryang (Secr...</td>\n",
              "      <td>1</td>\n",
              "      <td>4277</td>\n",
              "      <td>[interesting, thing, miryang, secret, sunshine...</td>\n",
              "      <td>401</td>\n",
              "    </tr>\n",
              "    <tr>\n",
              "      <th>4</th>\n",
              "      <td>when i first read about \"berlin am meer\" i did...</td>\n",
              "      <td>0</td>\n",
              "      <td>1013</td>\n",
              "      <td>[first, read, berlin, meer, expect, much, thou...</td>\n",
              "      <td>87</td>\n",
              "    </tr>\n",
              "  </tbody>\n",
              "</table>\n",
              "</div>"
            ],
            "text/plain": [
              "                                                text  ...  length_clean_review\n",
              "0  I always wrote this series off as being a comp...  ...                  197\n",
              "1  1st watched 12/7/2002 - 3 out of 10(Dir-Steve ...  ...                   89\n",
              "2  This movie was so poorly written and directed ...  ...                  103\n",
              "3  The most interesting thing about Miryang (Secr...  ...                  401\n",
              "4  when i first read about \"berlin am meer\" i did...  ...                   87\n",
              "\n",
              "[5 rows x 5 columns]"
            ]
          },
          "metadata": {
            "tags": []
          },
          "execution_count": 117
        }
      ]
    },
    {
      "cell_type": "code",
      "metadata": {
        "id": "ucqwkREClJ1G",
        "colab_type": "code",
        "outputId": "5ceda165-b6a0-4ca9-f9c1-ea9b3b2dddec",
        "colab": {
          "base_uri": "https://localhost:8080/",
          "height": 181
        }
      },
      "source": [
        "train.length.describe()"
      ],
      "execution_count": 118,
      "outputs": [
        {
          "output_type": "execute_result",
          "data": {
            "text/plain": [
              "count     5000.000000\n",
              "mean      1314.596200\n",
              "std       1010.339949\n",
              "min         67.000000\n",
              "25%        706.000000\n",
              "50%        970.000000\n",
              "75%       1578.500000\n",
              "max      12930.000000\n",
              "Name: length, dtype: float64"
            ]
          },
          "metadata": {
            "tags": []
          },
          "execution_count": 118
        }
      ]
    },
    {
      "cell_type": "code",
      "metadata": {
        "id": "ZUPynv9Yk5Sr",
        "colab_type": "code",
        "outputId": "34c28d48-6cdf-4a23-cb86-ddda54acec45",
        "colab": {
          "base_uri": "https://localhost:8080/",
          "height": 276
        }
      },
      "source": [
        "#Length histogram\n",
        "\n",
        "train['length'].plot.hist(bins = 100)\n",
        "plt.show()"
      ],
      "execution_count": 119,
      "outputs": [
        {
          "output_type": "display_data",
          "data": {
            "image/png": "[encoded data removed]",
            "text/plain": [
              "<Figure size 504x288 with 1 Axes>"
            ]
          },
          "metadata": {
            "tags": []
          }
        }
      ]
    },
    {
      "cell_type": "code",
      "metadata": {
        "id": "uXqvcsyomV5x",
        "colab_type": "code",
        "outputId": "23751a75-218c-4146-99fe-e7fe51deef7b",
        "colab": {
          "base_uri": "https://localhost:8080/",
          "height": 329
        }
      },
      "source": [
        "#positive reviews are longer\n",
        "\n",
        "train.hist(column='length', by='label', bins=100, figsize=(12,4))\n",
        "plt.show()"
      ],
      "execution_count": 120,
      "outputs": [
        {
          "output_type": "display_data",
          "data": {
            "image/png": "[encoded data removed]",
            "text/plain": [
              "<Figure size 864x288 with 2 Axes>"
            ]
          },
          "metadata": {
            "tags": []
          }
        }
      ]
    },
    {
      "cell_type": "markdown",
      "metadata": {
        "id": "D_LeVoUvnBhJ",
        "colab_type": "text"
      },
      "source": [
        "Cleaning Data"
      ]
    },
    {
      "cell_type": "code",
      "metadata": {
        "id": "MYGkGslCmxTu",
        "colab_type": "code",
        "colab": {}
      },
      "source": [
        "from bs4 import BeautifulSoup\n",
        "\n",
        "def clean_text(X):\n",
        "  #remove HTML tags\n",
        "  X = BeautifulSoup(X).get_text()\n",
        "\n",
        "  #remove all non letters from text\n",
        "  letters_only = re.sub(\"[^a-zA-Z]\", \" \", X) \n",
        "\n",
        "  #lower case, split words\n",
        "  words = letters_only.lower().split()\n",
        "\n",
        "  #stopwords variable\n",
        "  stops = set(stopwords.words('english'))\n",
        "\n",
        "  #Remove stop words and return\n",
        "  return [w for w in words if not w in stops]"
      ],
      "execution_count": 0,
      "outputs": []
    },
    {
      "cell_type": "code",
      "metadata": {
        "id": "oL5Mkn-OqAQe",
        "colab_type": "code",
        "outputId": "92ee50fb-a129-4116-9066-c769307ad8bf",
        "colab": {
          "base_uri": "https://localhost:8080/",
          "height": 198
        }
      },
      "source": [
        "#clean text, add word count coloumn\n",
        "\n",
        "train['clean_review'] = train['text'].apply(clean_text)\n",
        "train['length_clean_review'] = train['clean_review'].apply(len)\n",
        "train.head()"
      ],
      "execution_count": 122,
      "outputs": [
        {
          "output_type": "execute_result",
          "data": {
            "text/html": [
              "<div>\n",
              "<style scoped>\n",
              "    .dataframe tbody tr th:only-of-type {\n",
              "        vertical-align: middle;\n",
              "    }\n",
              "\n",
              "    .dataframe tbody tr th {\n",
              "        vertical-align: top;\n",
              "    }\n",
              "\n",
              "    .dataframe thead th {\n",
              "        text-align: right;\n",
              "    }\n",
              "</style>\n",
              "<table border=\"1\" class=\"dataframe\">\n",
              "  <thead>\n",
              "    <tr style=\"text-align: right;\">\n",
              "      <th></th>\n",
              "      <th>text</th>\n",
              "      <th>label</th>\n",
              "      <th>length</th>\n",
              "      <th>clean_review</th>\n",
              "      <th>length_clean_review</th>\n",
              "    </tr>\n",
              "  </thead>\n",
              "  <tbody>\n",
              "    <tr>\n",
              "      <th>0</th>\n",
              "      <td>I always wrote this series off as being a comp...</td>\n",
              "      <td>0</td>\n",
              "      <td>2105</td>\n",
              "      <td>[always, wrote, series, complete, stink, fest,...</td>\n",
              "      <td>197</td>\n",
              "    </tr>\n",
              "    <tr>\n",
              "      <th>1</th>\n",
              "      <td>1st watched 12/7/2002 - 3 out of 10(Dir-Steve ...</td>\n",
              "      <td>0</td>\n",
              "      <td>1070</td>\n",
              "      <td>[st, watched, dir, steve, purcell, typical, ma...</td>\n",
              "      <td>89</td>\n",
              "    </tr>\n",
              "    <tr>\n",
              "      <th>2</th>\n",
              "      <td>This movie was so poorly written and directed ...</td>\n",
              "      <td>0</td>\n",
              "      <td>1402</td>\n",
              "      <td>[movie, poorly, written, directed, fell, aslee...</td>\n",
              "      <td>103</td>\n",
              "    </tr>\n",
              "    <tr>\n",
              "      <th>3</th>\n",
              "      <td>The most interesting thing about Miryang (Secr...</td>\n",
              "      <td>1</td>\n",
              "      <td>4277</td>\n",
              "      <td>[interesting, thing, miryang, secret, sunshine...</td>\n",
              "      <td>401</td>\n",
              "    </tr>\n",
              "    <tr>\n",
              "      <th>4</th>\n",
              "      <td>when i first read about \"berlin am meer\" i did...</td>\n",
              "      <td>0</td>\n",
              "      <td>1013</td>\n",
              "      <td>[first, read, berlin, meer, expect, much, thou...</td>\n",
              "      <td>87</td>\n",
              "    </tr>\n",
              "  </tbody>\n",
              "</table>\n",
              "</div>"
            ],
            "text/plain": [
              "                                                text  ...  length_clean_review\n",
              "0  I always wrote this series off as being a comp...  ...                  197\n",
              "1  1st watched 12/7/2002 - 3 out of 10(Dir-Steve ...  ...                   89\n",
              "2  This movie was so poorly written and directed ...  ...                  103\n",
              "3  The most interesting thing about Miryang (Secr...  ...                  401\n",
              "4  when i first read about \"berlin am meer\" i did...  ...                   87\n",
              "\n",
              "[5 rows x 5 columns]"
            ]
          },
          "metadata": {
            "tags": []
          },
          "execution_count": 122
        }
      ]
    },
    {
      "cell_type": "code",
      "metadata": {
        "id": "72LYXeYErbLi",
        "colab_type": "code",
        "outputId": "5b8d004a-68be-49cf-8eb4-777d83512017",
        "colab": {
          "base_uri": "https://localhost:8080/",
          "height": 288
        }
      },
      "source": [
        "train.describe()"
      ],
      "execution_count": 124,
      "outputs": [
        {
          "output_type": "execute_result",
          "data": {
            "text/html": [
              "<div>\n",
              "<style scoped>\n",
              "    .dataframe tbody tr th:only-of-type {\n",
              "        vertical-align: middle;\n",
              "    }\n",
              "\n",
              "    .dataframe tbody tr th {\n",
              "        vertical-align: top;\n",
              "    }\n",
              "\n",
              "    .dataframe thead th {\n",
              "        text-align: right;\n",
              "    }\n",
              "</style>\n",
              "<table border=\"1\" class=\"dataframe\">\n",
              "  <thead>\n",
              "    <tr style=\"text-align: right;\">\n",
              "      <th></th>\n",
              "      <th>label</th>\n",
              "      <th>length</th>\n",
              "      <th>length_clean_review</th>\n",
              "    </tr>\n",
              "  </thead>\n",
              "  <tbody>\n",
              "    <tr>\n",
              "      <th>count</th>\n",
              "      <td>5000.000000</td>\n",
              "      <td>5000.000000</td>\n",
              "      <td>5000.000000</td>\n",
              "    </tr>\n",
              "    <tr>\n",
              "      <th>mean</th>\n",
              "      <td>0.501000</td>\n",
              "      <td>1314.596200</td>\n",
              "      <td>118.625600</td>\n",
              "    </tr>\n",
              "    <tr>\n",
              "      <th>std</th>\n",
              "      <td>0.500049</td>\n",
              "      <td>1010.339949</td>\n",
              "      <td>90.894709</td>\n",
              "    </tr>\n",
              "    <tr>\n",
              "      <th>min</th>\n",
              "      <td>0.000000</td>\n",
              "      <td>67.000000</td>\n",
              "      <td>7.000000</td>\n",
              "    </tr>\n",
              "    <tr>\n",
              "      <th>25%</th>\n",
              "      <td>0.000000</td>\n",
              "      <td>706.000000</td>\n",
              "      <td>64.000000</td>\n",
              "    </tr>\n",
              "    <tr>\n",
              "      <th>50%</th>\n",
              "      <td>1.000000</td>\n",
              "      <td>970.000000</td>\n",
              "      <td>88.000000</td>\n",
              "    </tr>\n",
              "    <tr>\n",
              "      <th>75%</th>\n",
              "      <td>1.000000</td>\n",
              "      <td>1578.500000</td>\n",
              "      <td>143.000000</td>\n",
              "    </tr>\n",
              "    <tr>\n",
              "      <th>max</th>\n",
              "      <td>1.000000</td>\n",
              "      <td>12930.000000</td>\n",
              "      <td>1135.000000</td>\n",
              "    </tr>\n",
              "  </tbody>\n",
              "</table>\n",
              "</div>"
            ],
            "text/plain": [
              "             label        length  length_clean_review\n",
              "count  5000.000000   5000.000000          5000.000000\n",
              "mean      0.501000   1314.596200           118.625600\n",
              "std       0.500049   1010.339949            90.894709\n",
              "min       0.000000     67.000000             7.000000\n",
              "25%       0.000000    706.000000            64.000000\n",
              "50%       1.000000    970.000000            88.000000\n",
              "75%       1.000000   1578.500000           143.000000\n",
              "max       1.000000  12930.000000          1135.000000"
            ]
          },
          "metadata": {
            "tags": []
          },
          "execution_count": 124
        }
      ]
    },
    {
      "cell_type": "code",
      "metadata": {
        "id": "phEjB7Z9r2jV",
        "colab_type": "code",
        "outputId": "42808900-36b0-4921-ace8-9cd21d0cceda",
        "colab": {
          "base_uri": "https://localhost:8080/",
          "height": 449
        }
      },
      "source": [
        "### Word CLoud\n",
        "#Plot wordcloud\n",
        "#need to remove stop words and 'br' tag\n",
        "word_cloud = WordCloud(width = 1000, height = 500, background_color = 'pink').generate(\n",
        "                        ''.join(train['text']))\n",
        "\n",
        "plt.figure(figsize = (15,8))\n",
        "plt.imshow(word_cloud)\n",
        "plt.axis('off')\n",
        "plt.show()\n",
        "\n",
        "#word_cloud.to_file('aa.png')   #for saving file"
      ],
      "execution_count": 106,
      "outputs": [
        {
          "output_type": "display_data",
          "data": {
            "image/png": "[encoded data removed]",
            "text/plain": [
              "<Figure size 1080x576 with 1 Axes>"
            ]
          },
          "metadata": {
            "tags": []
          }
        }
      ]
    },
    {
      "cell_type": "code",
      "metadata": {
        "id": "mVpZnifyt4NV",
        "colab_type": "code",
        "colab": {}
      },
      "source": [
        "#Vectorization\n",
        "\n",
        "from sklearn.feature_extraction.text import CountVectorizer\n",
        "\n",
        "bow_transform = CountVectorizer(analyzer=clean_text).fit(train['text'])"
      ],
      "execution_count": 0,
      "outputs": []
    },
    {
      "cell_type": "code",
      "metadata": {
        "id": "Shj3Z9upuEED",
        "colab_type": "code",
        "outputId": "ba70b16d-4dcf-4049-a35e-8d901df898fa",
        "colab": {
          "base_uri": "https://localhost:8080/",
          "height": 35
        }
      },
      "source": [
        "#print total number of words\n",
        "print(len(bow_transform.vocabulary_))"
      ],
      "execution_count": 126,
      "outputs": [
        {
          "output_type": "stream",
          "text": [
            "38561\n"
          ],
          "name": "stdout"
        }
      ]
    },
    {
      "cell_type": "code",
      "metadata": {
        "id": "rlmgJFf7uoE3",
        "colab_type": "code",
        "outputId": "61339dd6-c376-4579-b6c7-43cf045cff74",
        "colab": {
          "base_uri": "https://localhost:8080/",
          "height": 55
        }
      },
      "source": [
        "#Look at one review\n",
        "\n",
        "review1 = train['text'][1]\n",
        "print(review1)"
      ],
      "execution_count": 127,
      "outputs": [
        {
          "output_type": "stream",
          "text": [
            "1st watched 12/7/2002 - 3 out of 10(Dir-Steve Purcell): Typical Mary Kate & Ashley fare with a few more kisses. It looks to me like the girls are getting pretty tired of this stuff and it will be interesting what happens to them if they ever decide to split up and go there own ways. In this episode of their adventures they are interns in Rome for a `fashion' designer who puts them right into the mailroom to learn what working hard is all about(I guess..). Besides the typical flirtations with boys there is nothing much else except the Rome scenario until about ¾ way into the movie when it's finally revealed why they are getting fired, then re-hired, then fired again, then re-hired again. This is definetly made by people who don't understand the corporate world and it shows in their interpretation of it. Maybe the real world will be their next adventure(if there is one.). Even my kids didn't seem to care for this boring `adventure' in the make-believe. Let's see they probably only have a couple of years till their legal adults. We'll see what happens then.\n"
          ],
          "name": "stdout"
        }
      ]
    },
    {
      "cell_type": "code",
      "metadata": {
        "id": "_HpDJAXsu3LQ",
        "colab_type": "code",
        "outputId": "02b5102c-9769-4397-c954-e1b9866d03c7",
        "colab": {
          "base_uri": "https://localhost:8080/",
          "height": 963
        }
      },
      "source": [
        "#Review one in vector form\n",
        "\n",
        "bow1 = bow_transform.transform([review1])\n",
        "print(bow1)\n",
        "print(bow1.shape)"
      ],
      "execution_count": 128,
      "outputs": [
        {
          "output_type": "stream",
          "text": [
            "  (0, 461)\t1\n",
            "  (0, 471)\t2\n",
            "  (0, 474)\t1\n",
            "  (0, 1769)\t1\n",
            "  (0, 2956)\t1\n",
            "  (0, 3108)\t1\n",
            "  (0, 3854)\t1\n",
            "  (0, 3980)\t1\n",
            "  (0, 4970)\t1\n",
            "  (0, 7351)\t1\n",
            "  (0, 7483)\t1\n",
            "  (0, 8463)\t1\n",
            "  (0, 8568)\t1\n",
            "  (0, 8904)\t1\n",
            "  (0, 9288)\t1\n",
            "  (0, 10793)\t1\n",
            "  (0, 11247)\t1\n",
            "  (0, 11503)\t1\n",
            "  (0, 11518)\t1\n",
            "  (0, 11615)\t1\n",
            "  (0, 12116)\t1\n",
            "  (0, 12159)\t1\n",
            "  (0, 12541)\t1\n",
            "  (0, 12599)\t2\n",
            "  (0, 12815)\t1\n",
            "  :\t:\n",
            "  (0, 26387)\t1\n",
            "  (0, 26836)\t1\n",
            "  (0, 26896)\t1\n",
            "  (0, 27424)\t1\n",
            "  (0, 28405)\t1\n",
            "  (0, 28615)\t1\n",
            "  (0, 28897)\t2\n",
            "  (0, 29669)\t1\n",
            "  (0, 30047)\t2\n",
            "  (0, 30062)\t1\n",
            "  (0, 30748)\t1\n",
            "  (0, 32072)\t1\n",
            "  (0, 32242)\t1\n",
            "  (0, 32546)\t1\n",
            "  (0, 32892)\t1\n",
            "  (0, 34555)\t1\n",
            "  (0, 34623)\t1\n",
            "  (0, 35567)\t2\n",
            "  (0, 35856)\t1\n",
            "  (0, 37308)\t1\n",
            "  (0, 37367)\t1\n",
            "  (0, 37371)\t1\n",
            "  (0, 38018)\t1\n",
            "  (0, 38029)\t2\n",
            "  (0, 38267)\t1\n",
            "(1, 38561)\n"
          ],
          "name": "stdout"
        }
      ]
    },
    {
      "cell_type": "code",
      "metadata": {
        "id": "yx8mZ9S_vSLT",
        "colab_type": "code",
        "outputId": "cbfe0666-c21d-41ae-e3d4-7cd723aac5ba",
        "colab": {
          "base_uri": "https://localhost:8080/",
          "height": 54
        }
      },
      "source": [
        "print(bow_transform.get_feature_names()[471])  #word at specific index, adventure occurs twice\n",
        "print(bow_transform.get_feature_names()[26836])  #purcell occurs once"
      ],
      "execution_count": 130,
      "outputs": [
        {
          "output_type": "stream",
          "text": [
            "adventure\n",
            "purcell\n"
          ],
          "name": "stdout"
        }
      ]
    },
    {
      "cell_type": "code",
      "metadata": {
        "id": "9ezROpc-vmuN",
        "colab_type": "code",
        "colab": {}
      },
      "source": [
        "#create bow from reviews\n",
        "\n",
        "review_bow = bow_transform.transform(train['text'])"
      ],
      "execution_count": 0,
      "outputs": []
    },
    {
      "cell_type": "code",
      "metadata": {
        "id": "cW5MDdjEv2Rz",
        "colab_type": "code",
        "outputId": "da6ea4ca-32f9-4d3b-a7c2-c690da4a64d3",
        "colab": {
          "base_uri": "https://localhost:8080/",
          "height": 54
        }
      },
      "source": [
        "#Check the shape and non zero occurances\n",
        "\n",
        "print('Shape of sparse matrix: ', review_bow.shape)\n",
        "print('Amount of non-zero occurences: ', review_bow.nnz)"
      ],
      "execution_count": 132,
      "outputs": [
        {
          "output_type": "stream",
          "text": [
            "Shape of sparse matrix:  (5000, 38561)\n",
            "Amount of non-zero occurences:  487675\n"
          ],
          "name": "stdout"
        }
      ]
    },
    {
      "cell_type": "code",
      "metadata": {
        "id": "PLPVU2JYwc1b",
        "colab_type": "code",
        "outputId": "183f44bd-98bd-4255-93f8-aff67a8e0279",
        "colab": {
          "base_uri": "https://localhost:8080/",
          "height": 35
        }
      },
      "source": [
        "#Check sparsity of sparse matrix\n",
        "\n",
        "sparsity = 100 * review_bow.nnz / (review_bow.shape[0] * review_bow.shape[1])\n",
        "print('sparsity: {}'.format(sparsity))"
      ],
      "execution_count": 133,
      "outputs": [
        {
          "output_type": "stream",
          "text": [
            "sparsity: 0.25293690516324785\n"
          ],
          "name": "stdout"
        }
      ]
    },
    {
      "cell_type": "code",
      "metadata": {
        "id": "UswsAUgDycVA",
        "colab_type": "code",
        "outputId": "9c6140fe-c09c-4e3e-d8ae-16a625a524c1",
        "colab": {
          "base_uri": "https://localhost:8080/",
          "height": 945
        }
      },
      "source": [
        "#Term frequency: how frequently a term is used / length\n",
        "#IDF: Inverse Document Frequency, measures importance of the term\n",
        "#rare words have more importance, are scaled up using:\n",
        "#  IDF(t) = log_e(Total # of reviews/ # of reviews with term t in it)\n",
        "\n",
        "from sklearn.feature_extraction.text import TfidfTransformer\n",
        "\n",
        "tfidf_transformer = TfidfTransformer().fit(review_bow)\n",
        "tfidf1 = tfidf_transformer.transform(bow1)\n",
        "print(tfidf1)"
      ],
      "execution_count": 134,
      "outputs": [
        {
          "output_type": "stream",
          "text": [
            "  (0, 38267)\t0.05767276908870989\n",
            "  (0, 38029)\t0.12719653995388402\n",
            "  (0, 38018)\t0.08607401130784409\n",
            "  (0, 37371)\t0.08900519874063463\n",
            "  (0, 37367)\t0.04782286739061057\n",
            "  (0, 37308)\t0.06953603218969492\n",
            "  (0, 35856)\t0.07571503356807464\n",
            "  (0, 35567)\t0.1788083751090192\n",
            "  (0, 34623)\t0.10405691188945157\n",
            "  (0, 34555)\t0.11322661082891403\n",
            "  (0, 32892)\t0.08090997691687118\n",
            "  (0, 32546)\t0.10269435272706957\n",
            "  (0, 32242)\t0.10743320438490629\n",
            "  (0, 32072)\t0.12439114846216652\n",
            "  (0, 30748)\t0.06871804031791308\n",
            "  (0, 30062)\t0.07090912149072691\n",
            "  (0, 30047)\t0.08404616691931154\n",
            "  (0, 29669)\t0.11612192309367388\n",
            "  (0, 28897)\t0.27168428625158847\n",
            "  (0, 28615)\t0.06295421481898016\n",
            "  (0, 28405)\t0.11070199447573156\n",
            "  (0, 27424)\t0.05761895631816693\n",
            "  (0, 26896)\t0.10069271448954904\n",
            "  (0, 26836)\t0.1561763796985092\n",
            "  (0, 26387)\t0.06615763434009181\n",
            "  :\t:\n",
            "  (0, 12815)\t0.16058330296198192\n",
            "  (0, 12599)\t0.25962215416021767\n",
            "  (0, 12541)\t0.0763984676654475\n",
            "  (0, 12159)\t0.10811428134501191\n",
            "  (0, 12116)\t0.11612192309367388\n",
            "  (0, 11615)\t0.08302964720675331\n",
            "  (0, 11518)\t0.052551460620988553\n",
            "  (0, 11503)\t0.04132795228231979\n",
            "  (0, 11247)\t0.08217291783741576\n",
            "  (0, 10793)\t0.07054386690018413\n",
            "  (0, 9288)\t0.14248722571207423\n",
            "  (0, 8904)\t0.133204994989112\n",
            "  (0, 8568)\t0.16058330296198192\n",
            "  (0, 8463)\t0.09931429882324805\n",
            "  (0, 7483)\t0.07739683850678342\n",
            "  (0, 7351)\t0.132007702687145\n",
            "  (0, 4970)\t0.08126265190607339\n",
            "  (0, 3980)\t0.09623825985639357\n",
            "  (0, 3854)\t0.07486052234604892\n",
            "  (0, 3108)\t0.10295944764117033\n",
            "  (0, 2956)\t0.06636574242560142\n",
            "  (0, 1769)\t0.15257566121331995\n",
            "  (0, 474)\t0.11774606587588653\n",
            "  (0, 471)\t0.19646966965293353\n",
            "  (0, 461)\t0.1055204905793558\n"
          ],
          "name": "stdout"
        }
      ]
    },
    {
      "cell_type": "code",
      "metadata": {
        "id": "th7ypHPkzgKv",
        "colab_type": "code",
        "outputId": "b7ecd071-1b53-4d07-9c03-4fdfb0b39ad5",
        "colab": {
          "base_uri": "https://localhost:8080/",
          "height": 54
        }
      },
      "source": [
        "#check what the IDF of the word 'adventure' and 'purcell' is\n",
        "\n",
        "print(tfidf_transformer.idf_[bow_transform.vocabulary_['adventure']])\n",
        "print(tfidf_transformer.idf_[bow_transform.vocabulary_['purcell']])"
      ],
      "execution_count": 136,
      "outputs": [
        {
          "output_type": "stream",
          "text": [
            "4.9740983891488995\n",
            "7.907955258984804\n"
          ],
          "name": "stdout"
        }
      ]
    },
    {
      "cell_type": "code",
      "metadata": {
        "id": "O5L-paT8zI2A",
        "colab_type": "code",
        "outputId": "ac2f0353-4f86-4b44-91c1-b7771ac8bfca",
        "colab": {
          "base_uri": "https://localhost:8080/",
          "height": 35
        }
      },
      "source": [
        "#transform the whole bag of words\n",
        "\n",
        "review_tfidf = tfidf_transformer.transform(review_bow)\n",
        "print(review_tfidf.shape)"
      ],
      "execution_count": 137,
      "outputs": [
        {
          "output_type": "stream",
          "text": [
            "(5000, 38561)\n"
          ],
          "name": "stdout"
        }
      ]
    },
    {
      "cell_type": "code",
      "metadata": {
        "id": "HCdOKw3Sqoan",
        "colab_type": "code",
        "colab": {}
      },
      "source": [
        "#Predicting & Stats Function\n",
        "def pred(predicted,compare):\n",
        "    cm = pd.crosstab(compare,predicted)\n",
        "    TN = cm.iloc[0,0]\n",
        "    FN = cm.iloc[1,0]\n",
        "    TP = cm.iloc[1,1]\n",
        "    FP = cm.iloc[0,1]\n",
        "    print(\"Confusion Matrix:\")\n",
        "    print(cm)\n",
        "    print()\n",
        "    \n",
        "    ##check accuracy of model\n",
        "    print('Accuracy :- ', round(((TP+TN)*100)/(TP+TN+FP+FN),2))\n",
        "    print()\n",
        "    print('False Negative Rate :- ',round((FN*100)/(FN+TP),2))\n",
        "    print()\n",
        "    print('False Postive Rate :- ',round((FP*100)/(FP+TN),2))\n",
        "    print()\n",
        "    print(classification_report(compare,predicted))"
      ],
      "execution_count": 0,
      "outputs": []
    },
    {
      "cell_type": "code",
      "metadata": {
        "id": "b73aaX7l0udG",
        "colab_type": "code",
        "outputId": "f004683e-7b4f-4034-ed18-5aac81909a79",
        "colab": {
          "base_uri": "https://localhost:8080/",
          "height": 35
        }
      },
      "source": [
        "from sklearn.model_selection import train_test_split\n",
        "\n",
        "X_train, X_test, y_train, y_test = train_test_split(train['text'], train['label'], test_size=0.22, random_state=42)\n",
        "\n",
        "len(X_train), len(X_test), len(X_train) + len(X_test)"
      ],
      "execution_count": 141,
      "outputs": [
        {
          "output_type": "execute_result",
          "data": {
            "text/plain": [
              "(3900, 1100, 5000)"
            ]
          },
          "metadata": {
            "tags": []
          },
          "execution_count": 141
        }
      ]
    },
    {
      "cell_type": "code",
      "metadata": {
        "id": "nHtoJtMi1hd9",
        "colab_type": "code",
        "outputId": "87de8e5c-6612-4924-cb71-e6215826777c",
        "colab": {
          "base_uri": "https://localhost:8080/",
          "height": 399
        }
      },
      "source": [
        "#Logistic Regression Model\n",
        "\n",
        "from sklearn.linear_model import LogisticRegression\n",
        "from sklearn.pipeline import Pipeline\n",
        "\n",
        "pipeline = Pipeline([\n",
        "    ('bow', CountVectorizer(analyzer=clean_text)),  # strings to token integer counts\n",
        "    ('tfidf', TfidfTransformer()),  # integer counts to weighted TF-IDF scores\n",
        "    ('classifier', LogisticRegression(random_state=101)),  # train on TF-IDF vectors w/ Naive Bayes classifier\n",
        "])\n",
        "\n",
        "pipeline.fit(X_train,y_train)\n",
        "predictions = pipeline.predict(X_train)\n",
        "pred(predictions,y_train)"
      ],
      "execution_count": 145,
      "outputs": [
        {
          "output_type": "stream",
          "text": [
            "Confusion Matrix:\n",
            "col_0     0     1\n",
            "label            \n",
            "0      1838   106\n",
            "1        57  1899\n",
            "\n",
            "Accuracy :-  95.82\n",
            "\n",
            "False Negative Rate :-  2.91\n",
            "\n",
            "False Postive Rate :-  5.45\n",
            "\n",
            "              precision    recall  f1-score   support\n",
            "\n",
            "           0       0.97      0.95      0.96      1944\n",
            "           1       0.95      0.97      0.96      1956\n",
            "\n",
            "    accuracy                           0.96      3900\n",
            "   macro avg       0.96      0.96      0.96      3900\n",
            "weighted avg       0.96      0.96      0.96      3900\n",
            "\n"
          ],
          "name": "stdout"
        }
      ]
    },
    {
      "cell_type": "code",
      "metadata": {
        "id": "Q7yA2Tc91xoP",
        "colab_type": "code",
        "outputId": "8c79a6fb-f541-4d80-f346-425f9918a802",
        "colab": {
          "base_uri": "https://localhost:8080/",
          "height": 399
        }
      },
      "source": [
        "#Test Set Result\n",
        "predictions = pipeline.predict(X_test)\n",
        "pred(predictions,y_test)"
      ],
      "execution_count": 146,
      "outputs": [
        {
          "output_type": "stream",
          "text": [
            "Confusion Matrix:\n",
            "col_0    0    1\n",
            "label          \n",
            "0      472   79\n",
            "1       70  479\n",
            "\n",
            "Accuracy :-  86.45\n",
            "\n",
            "False Negative Rate :-  12.75\n",
            "\n",
            "False Postive Rate :-  14.34\n",
            "\n",
            "              precision    recall  f1-score   support\n",
            "\n",
            "           0       0.87      0.86      0.86       551\n",
            "           1       0.86      0.87      0.87       549\n",
            "\n",
            "    accuracy                           0.86      1100\n",
            "   macro avg       0.86      0.86      0.86      1100\n",
            "weighted avg       0.86      0.86      0.86      1100\n",
            "\n"
          ],
          "name": "stdout"
        }
      ]
    },
    {
      "cell_type": "code",
      "metadata": {
        "id": "G7DFqr5g21vZ",
        "colab_type": "code",
        "outputId": "a74b81cb-6605-4d9f-c928-098cd7df3e92",
        "colab": {
          "base_uri": "https://localhost:8080/",
          "height": 181
        }
      },
      "source": [
        "print(classification_report(predictions, y_test))"
      ],
      "execution_count": 147,
      "outputs": [
        {
          "output_type": "stream",
          "text": [
            "              precision    recall  f1-score   support\n",
            "\n",
            "           0       0.86      0.87      0.86       542\n",
            "           1       0.87      0.86      0.87       558\n",
            "\n",
            "    accuracy                           0.86      1100\n",
            "   macro avg       0.86      0.86      0.86      1100\n",
            "weighted avg       0.86      0.86      0.86      1100\n",
            "\n"
          ],
          "name": "stdout"
        }
      ]
    },
    {
      "cell_type": "code",
      "metadata": {
        "id": "9dOWMwEL2dAB",
        "colab_type": "code",
        "outputId": "eeb25900-646e-4ebe-867e-1e404f25f9f9",
        "colab": {
          "base_uri": "https://localhost:8080/",
          "height": 35
        }
      },
      "source": [
        "from sklearn.metrics import accuracy_score\n",
        "\n",
        "accuracy_score(predictions, y_test)"
      ],
      "execution_count": 148,
      "outputs": [
        {
          "output_type": "execute_result",
          "data": {
            "text/plain": [
              "0.8645454545454545"
            ]
          },
          "metadata": {
            "tags": []
          },
          "execution_count": 148
        }
      ]
    },
    {
      "cell_type": "code",
      "metadata": {
        "id": "6vJgSm-MGzE8",
        "colab_type": "code",
        "outputId": "398a6231-10fd-40b0-e01e-a21be9e8d3b4",
        "colab": {
          "base_uri": "https://localhost:8080/",
          "height": 399
        }
      },
      "source": [
        "#Random Forest\n",
        "\n",
        "from sklearn.ensemble import RandomForestClassifier\n",
        "\n",
        "pipeline = Pipeline([\n",
        "    ('bow', CountVectorizer(analyzer=clean_text)),  # strings to token integer counts\n",
        "    ('tfidf', TfidfTransformer()),  # integer counts to weighted TF-IDF scores\n",
        "    ('classifier', RandomForestClassifier(n_estimators = 500)),  # train on TF-IDF vectors w/ Naive Bayes classifier\n",
        "])\n",
        "\n",
        "pipeline.fit(X_train,y_train)\n",
        "predictions = pipeline.predict(X_train)\n",
        "pred(predictions,y_train)"
      ],
      "execution_count": 166,
      "outputs": [
        {
          "output_type": "stream",
          "text": [
            "Confusion Matrix:\n",
            "col_0     0     1\n",
            "label            \n",
            "0      1944     0\n",
            "1         0  1956\n",
            "\n",
            "Accuracy :-  100.0\n",
            "\n",
            "False Negative Rate :-  0.0\n",
            "\n",
            "False Postive Rate :-  0.0\n",
            "\n",
            "              precision    recall  f1-score   support\n",
            "\n",
            "           0       1.00      1.00      1.00      1944\n",
            "           1       1.00      1.00      1.00      1956\n",
            "\n",
            "    accuracy                           1.00      3900\n",
            "   macro avg       1.00      1.00      1.00      3900\n",
            "weighted avg       1.00      1.00      1.00      3900\n",
            "\n"
          ],
          "name": "stdout"
        }
      ]
    },
    {
      "cell_type": "code",
      "metadata": {
        "id": "Shk-n6w7HoNc",
        "colab_type": "code",
        "outputId": "b5a87db0-405e-435e-b823-43143eaaac78",
        "colab": {
          "base_uri": "https://localhost:8080/",
          "height": 399
        }
      },
      "source": [
        "#Test Set Result\n",
        "predictions = pipeline.predict(X_test)\n",
        "pred(predictions,y_test)"
      ],
      "execution_count": 150,
      "outputs": [
        {
          "output_type": "stream",
          "text": [
            "Confusion Matrix:\n",
            "col_0    0    1\n",
            "label          \n",
            "0      485   66\n",
            "1       96  453\n",
            "\n",
            "Accuracy :-  85.27\n",
            "\n",
            "False Negative Rate :-  17.49\n",
            "\n",
            "False Postive Rate :-  11.98\n",
            "\n",
            "              precision    recall  f1-score   support\n",
            "\n",
            "           0       0.83      0.88      0.86       551\n",
            "           1       0.87      0.83      0.85       549\n",
            "\n",
            "    accuracy                           0.85      1100\n",
            "   macro avg       0.85      0.85      0.85      1100\n",
            "weighted avg       0.85      0.85      0.85      1100\n",
            "\n"
          ],
          "name": "stdout"
        }
      ]
    },
    {
      "cell_type": "code",
      "metadata": {
        "id": "YwUXAyQ8X0YS",
        "colab_type": "code",
        "colab": {
          "base_uri": "https://localhost:8080/",
          "height": 35
        },
        "outputId": "1e82cb3c-5d8c-4858-af66-e744642a11d0"
      },
      "source": [
        "accuracy_score(predictions, y_test)"
      ],
      "execution_count": 151,
      "outputs": [
        {
          "output_type": "execute_result",
          "data": {
            "text/plain": [
              "0.8527272727272728"
            ]
          },
          "metadata": {
            "tags": []
          },
          "execution_count": 151
        }
      ]
    },
    {
      "cell_type": "code",
      "metadata": {
        "id": "DaubeUFjzNMG",
        "colab_type": "code",
        "colab": {
          "base_uri": "https://localhost:8080/",
          "height": 290
        },
        "outputId": "e76df757-5677-43b9-c600-cc0a5ba24706"
      },
      "source": [
        "!pip install category_encoders==2.*"
      ],
      "execution_count": 153,
      "outputs": [
        {
          "output_type": "stream",
          "text": [
            "Collecting category_encoders==2.*\n",
            "\u001b[?25l  Downloading https://files.pythonhosted.org/packages/a0/52/c54191ad3782de633ea3d6ee3bb2837bda0cf3bc97644bb6375cf14150a0/category_encoders-2.1.0-py2.py3-none-any.whl (100kB)\n",
            "\r\u001b[K     |███▎                            | 10kB 14.3MB/s eta 0:00:01\r\u001b[K     |██████▌                         | 20kB 1.8MB/s eta 0:00:01\r\u001b[K     |█████████▉                      | 30kB 2.5MB/s eta 0:00:01\r\u001b[K     |█████████████                   | 40kB 1.7MB/s eta 0:00:01\r\u001b[K     |████████████████▍               | 51kB 1.9MB/s eta 0:00:01\r\u001b[K     |███████████████████▋            | 61kB 2.3MB/s eta 0:00:01\r\u001b[K     |██████████████████████▉         | 71kB 2.5MB/s eta 0:00:01\r\u001b[K     |██████████████████████████▏     | 81kB 2.6MB/s eta 0:00:01\r\u001b[K     |█████████████████████████████▍  | 92kB 2.9MB/s eta 0:00:01\r\u001b[K     |████████████████████████████████| 102kB 2.3MB/s \n",
            "\u001b[?25hRequirement already satisfied: statsmodels>=0.6.1 in /usr/local/lib/python3.6/dist-packages (from category_encoders==2.*) (0.10.2)\n",
            "Requirement already satisfied: pandas>=0.21.1 in /usr/local/lib/python3.6/dist-packages (from category_encoders==2.*) (0.25.3)\n",
            "Requirement already satisfied: scipy>=0.19.0 in /usr/local/lib/python3.6/dist-packages (from category_encoders==2.*) (1.4.1)\n",
            "Requirement already satisfied: scikit-learn>=0.20.0 in /usr/local/lib/python3.6/dist-packages (from category_encoders==2.*) (0.22.1)\n",
            "Requirement already satisfied: patsy>=0.4.1 in /usr/local/lib/python3.6/dist-packages (from category_encoders==2.*) (0.5.1)\n",
            "Requirement already satisfied: numpy>=1.11.3 in /usr/local/lib/python3.6/dist-packages (from category_encoders==2.*) (1.17.5)\n",
            "Requirement already satisfied: python-dateutil>=2.6.1 in /usr/local/lib/python3.6/dist-packages (from pandas>=0.21.1->category_encoders==2.*) (2.6.1)\n",
            "Requirement already satisfied: pytz>=2017.2 in /usr/local/lib/python3.6/dist-packages (from pandas>=0.21.1->category_encoders==2.*) (2018.9)\n",
            "Requirement already satisfied: joblib>=0.11 in /usr/local/lib/python3.6/dist-packages (from scikit-learn>=0.20.0->category_encoders==2.*) (0.14.1)\n",
            "Requirement already satisfied: six in /usr/local/lib/python3.6/dist-packages (from patsy>=0.4.1->category_encoders==2.*) (1.12.0)\n",
            "Installing collected packages: category-encoders\n",
            "Successfully installed category-encoders-2.1.0\n"
          ],
          "name": "stdout"
        }
      ]
    },
    {
      "cell_type": "code",
      "metadata": {
        "id": "PLcXs26mKKCG",
        "colab_type": "code",
        "colab": {}
      },
      "source": [
        "import category_encoders as ce\n",
        "from sklearn.pipeline import make_pipeline\n",
        "from xgboost import XGBClassifier"
      ],
      "execution_count": 0,
      "outputs": []
    },
    {
      "cell_type": "code",
      "metadata": {
        "id": "qwNophUt0IYD",
        "colab_type": "code",
        "colab": {
          "base_uri": "https://localhost:8080/",
          "height": 399
        },
        "outputId": "3ffdc88f-9f95-4d1f-d626-515465f8c89a"
      },
      "source": [
        "pipeline = Pipeline([\n",
        "    ('bow', CountVectorizer(analyzer=clean_text)),  # strings to token integer counts\n",
        "    ('tfidf', TfidfTransformer()),  # integer counts to weighted TF-IDF scores\n",
        "    ('classifier', XGBClassifier(n_estimators = 500)),  # train on TF-IDF vectors w/ Naive Bayes classifier\n",
        "])\n",
        "\n",
        "pipeline.fit(X_train,y_train)\n",
        "predictions = pipeline.predict(X_train)\n",
        "pred(predictions,y_train)"
      ],
      "execution_count": 158,
      "outputs": [
        {
          "output_type": "stream",
          "text": [
            "Confusion Matrix:\n",
            "col_0     0     1\n",
            "label            \n",
            "0      1872    72\n",
            "1        26  1930\n",
            "\n",
            "Accuracy :-  97.49\n",
            "\n",
            "False Negative Rate :-  1.33\n",
            "\n",
            "False Postive Rate :-  3.7\n",
            "\n",
            "              precision    recall  f1-score   support\n",
            "\n",
            "           0       0.99      0.96      0.97      1944\n",
            "           1       0.96      0.99      0.98      1956\n",
            "\n",
            "    accuracy                           0.97      3900\n",
            "   macro avg       0.98      0.97      0.97      3900\n",
            "weighted avg       0.98      0.97      0.97      3900\n",
            "\n"
          ],
          "name": "stdout"
        }
      ]
    },
    {
      "cell_type": "code",
      "metadata": {
        "id": "Kb6OZjtR0uWr",
        "colab_type": "code",
        "colab": {
          "base_uri": "https://localhost:8080/",
          "height": 399
        },
        "outputId": "01235220-7700-42b8-b093-bdb5423d473a"
      },
      "source": [
        "#Test Set Result\n",
        "predictions = pipeline.predict(X_test)\n",
        "pred(predictions,y_test)"
      ],
      "execution_count": 159,
      "outputs": [
        {
          "output_type": "stream",
          "text": [
            "Confusion Matrix:\n",
            "col_0    0    1\n",
            "label          \n",
            "0      460   91\n",
            "1       87  462\n",
            "\n",
            "Accuracy :-  83.82\n",
            "\n",
            "False Negative Rate :-  15.85\n",
            "\n",
            "False Postive Rate :-  16.52\n",
            "\n",
            "              precision    recall  f1-score   support\n",
            "\n",
            "           0       0.84      0.83      0.84       551\n",
            "           1       0.84      0.84      0.84       549\n",
            "\n",
            "    accuracy                           0.84      1100\n",
            "   macro avg       0.84      0.84      0.84      1100\n",
            "weighted avg       0.84      0.84      0.84      1100\n",
            "\n"
          ],
          "name": "stdout"
        }
      ]
    },
    {
      "cell_type": "code",
      "metadata": {
        "colab_type": "code",
        "id": "DKr13i6V3rsa",
        "colab": {}
      },
      "source": [
        ""
      ],
      "execution_count": 0,
      "outputs": []
    }
  ]
}