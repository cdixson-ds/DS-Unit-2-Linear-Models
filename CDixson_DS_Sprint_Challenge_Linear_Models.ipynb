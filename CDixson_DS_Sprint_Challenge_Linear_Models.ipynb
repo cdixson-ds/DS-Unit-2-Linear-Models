{
  "nbformat": 4,
  "nbformat_minor": 0,
  "metadata": {
    "colab": {
      "name": "CDixson_DS_Sprint_Challenge_Linear_Models.ipynb",
      "provenance": [],
      "collapsed_sections": [],
      "include_colab_link": true
    },
    "kernelspec": {
      "display_name": "Python 3",
      "language": "python",
      "name": "python3"
    },
    "language_info": {
      "codemirror_mode": {
        "name": "ipython",
        "version": 3
      },
      "file_extension": ".py",
      "mimetype": "text/x-python",
      "name": "python",
      "nbconvert_exporter": "python",
      "pygments_lexer": "ipython3",
      "version": "3.7.3"
    }
  },
  "cells": [
    {
      "cell_type": "markdown",
      "metadata": {
        "id": "view-in-github",
        "colab_type": "text"
      },
      "source": [
        "<a href=\"https://colab.research.google.com/github/cdixson-ds/DS-Unit-2-Linear-Models/blob/master/CDixson_DS_Sprint_Challenge_Linear_Models.ipynb\" target=\"_parent\"><img src=\"https://colab.research.google.com/assets/colab-badge.svg\" alt=\"Open In Colab\"/></a>"
      ]
    },
    {
      "cell_type": "markdown",
      "metadata": {
        "colab_type": "text",
        "id": "VZf2akBaMjq8"
      },
      "source": [
        "_Lambda School Data Science, Unit 2_\n",
        " \n",
        "# Linear Models Sprint Challenge\n",
        "\n",
        "To demonstrate mastery on your Sprint Challenge, do all the required, numbered instructions in this notebook.\n",
        "\n",
        "To earn a score of \"3\", also do all the stretch goals.\n",
        "\n",
        "You are permitted and encouraged to do as much data exploration as you want."
      ]
    },
    {
      "cell_type": "markdown",
      "metadata": {
        "colab_type": "text",
        "id": "20OITf58NLQh"
      },
      "source": [
        "### Part 1, Classification\n",
        "- 1.1. Do train/test split. Arrange data into X features matrix and y target vector\n",
        "- 1.2. Use scikit-learn to fit a logistic regression model\n",
        "- 1.3. Report classification metric: accuracy\n",
        "\n",
        "### Part 2, Regression\n",
        "- 2.1. Begin with baselines for regression\n",
        "- 2.2. Do train/validate/test split\n",
        "- 2.3. Arrange data into X features matrix and y target vector\n",
        "- 2.4. Do one-hot encoding\n",
        "- 2.5. Use scikit-learn to fit a linear regression or ridge regression model\n",
        "- 2.6. Report validation MAE and $R^2$\n",
        "\n",
        "### Stretch Goals, Regression\n",
        "- Make at least 2 visualizations to explore relationships between features and target. You may use any visualization library\n",
        "- Try at least 3 feature combinations. You may select features manually, or automatically\n",
        "- Report validation MAE and $R^2$ for each feature combination you try\n",
        "- Report test MAE and $R^2$ for your final model\n",
        "- Print or plot the coefficients for the features in your model"
      ]
    },
    {
      "cell_type": "code",
      "metadata": {
        "colab_type": "code",
        "id": "BxoFSeX5OX5k",
        "colab": {
          "base_uri": "https://localhost:8080/",
          "height": 1000
        },
        "outputId": "ffd9cc2d-5d69-4321-e6a2-f17b330f71ac"
      },
      "source": [
        "# If you're in Colab...\n",
        "import sys\n",
        "if 'google.colab' in sys.modules:\n",
        "    !pip install category_encoders==2.*\n",
        "    !pip install pandas-profiling==2.*\n",
        "    !pip install plotly==4.*"
      ],
      "execution_count": 172,
      "outputs": [
        {
          "output_type": "stream",
          "text": [
            "Requirement already satisfied: category_encoders==2.* in /usr/local/lib/python3.6/dist-packages (2.1.0)\n",
            "Requirement already satisfied: statsmodels>=0.6.1 in /usr/local/lib/python3.6/dist-packages (from category_encoders==2.*) (0.10.2)\n",
            "Requirement already satisfied: scipy>=0.19.0 in /usr/local/lib/python3.6/dist-packages (from category_encoders==2.*) (1.4.1)\n",
            "Requirement already satisfied: patsy>=0.4.1 in /usr/local/lib/python3.6/dist-packages (from category_encoders==2.*) (0.5.1)\n",
            "Requirement already satisfied: scikit-learn>=0.20.0 in /usr/local/lib/python3.6/dist-packages (from category_encoders==2.*) (0.22.1)\n",
            "Requirement already satisfied: numpy>=1.11.3 in /usr/local/lib/python3.6/dist-packages (from category_encoders==2.*) (1.17.5)\n",
            "Requirement already satisfied: pandas>=0.21.1 in /usr/local/lib/python3.6/dist-packages (from category_encoders==2.*) (0.25.3)\n",
            "Requirement already satisfied: six in /usr/local/lib/python3.6/dist-packages (from patsy>=0.4.1->category_encoders==2.*) (1.12.0)\n",
            "Requirement already satisfied: joblib>=0.11 in /usr/local/lib/python3.6/dist-packages (from scikit-learn>=0.20.0->category_encoders==2.*) (0.14.1)\n",
            "Requirement already satisfied: pytz>=2017.2 in /usr/local/lib/python3.6/dist-packages (from pandas>=0.21.1->category_encoders==2.*) (2018.9)\n",
            "Requirement already satisfied: python-dateutil>=2.6.1 in /usr/local/lib/python3.6/dist-packages (from pandas>=0.21.1->category_encoders==2.*) (2.6.1)\n",
            "Requirement already satisfied: pandas-profiling==2.* in /usr/local/lib/python3.6/dist-packages (2.5.0)\n",
            "Requirement already satisfied: pandas==0.25.3 in /usr/local/lib/python3.6/dist-packages (from pandas-profiling==2.*) (0.25.3)\n",
            "Requirement already satisfied: tqdm==4.42.0 in /usr/local/lib/python3.6/dist-packages (from pandas-profiling==2.*) (4.42.0)\n",
            "Requirement already satisfied: tangled-up-in-unicode==0.0.3 in /usr/local/lib/python3.6/dist-packages (from pandas-profiling==2.*) (0.0.3)\n",
            "Requirement already satisfied: htmlmin==0.1.12 in /usr/local/lib/python3.6/dist-packages (from pandas-profiling==2.*) (0.1.12)\n",
            "Requirement already satisfied: missingno==0.4.2 in /usr/local/lib/python3.6/dist-packages (from pandas-profiling==2.*) (0.4.2)\n",
            "Requirement already satisfied: numpy>=1.16.0 in /usr/local/lib/python3.6/dist-packages (from pandas-profiling==2.*) (1.17.5)\n",
            "Requirement already satisfied: ipywidgets==7.5.1 in /usr/local/lib/python3.6/dist-packages (from pandas-profiling==2.*) (7.5.1)\n",
            "Requirement already satisfied: scipy>=1.4.1 in /usr/local/lib/python3.6/dist-packages (from pandas-profiling==2.*) (1.4.1)\n",
            "Requirement already satisfied: jinja2==2.11.1 in /usr/local/lib/python3.6/dist-packages (from pandas-profiling==2.*) (2.11.1)\n",
            "Requirement already satisfied: phik==0.9.9 in /usr/local/lib/python3.6/dist-packages (from pandas-profiling==2.*) (0.9.9)\n",
            "Requirement already satisfied: confuse==1.0.0 in /usr/local/lib/python3.6/dist-packages (from pandas-profiling==2.*) (1.0.0)\n",
            "Requirement already satisfied: kaggle==1.5.6 in /usr/local/lib/python3.6/dist-packages (from pandas-profiling==2.*) (1.5.6)\n",
            "Requirement already satisfied: matplotlib>=3.0.3 in /usr/local/lib/python3.6/dist-packages (from pandas-profiling==2.*) (3.1.3)\n",
            "Requirement already satisfied: astropy>=3.2.3 in /usr/local/lib/python3.6/dist-packages (from pandas-profiling==2.*) (4.0)\n",
            "Requirement already satisfied: requests==2.22.0 in /usr/local/lib/python3.6/dist-packages (from pandas-profiling==2.*) (2.22.0)\n",
            "Requirement already satisfied: visions==0.2.2 in /usr/local/lib/python3.6/dist-packages (from pandas-profiling==2.*) (0.2.2)\n",
            "Requirement already satisfied: python-dateutil>=2.6.1 in /usr/local/lib/python3.6/dist-packages (from pandas==0.25.3->pandas-profiling==2.*) (2.6.1)\n",
            "Requirement already satisfied: pytz>=2017.2 in /usr/local/lib/python3.6/dist-packages (from pandas==0.25.3->pandas-profiling==2.*) (2018.9)\n",
            "Requirement already satisfied: seaborn in /usr/local/lib/python3.6/dist-packages (from missingno==0.4.2->pandas-profiling==2.*) (0.10.0)\n",
            "Requirement already satisfied: widgetsnbextension~=3.5.0 in /usr/local/lib/python3.6/dist-packages (from ipywidgets==7.5.1->pandas-profiling==2.*) (3.5.1)\n",
            "Requirement already satisfied: traitlets>=4.3.1 in /usr/local/lib/python3.6/dist-packages (from ipywidgets==7.5.1->pandas-profiling==2.*) (4.3.3)\n",
            "Requirement already satisfied: ipykernel>=4.5.1 in /usr/local/lib/python3.6/dist-packages (from ipywidgets==7.5.1->pandas-profiling==2.*) (4.6.1)\n",
            "Requirement already satisfied: ipython>=4.0.0; python_version >= \"3.3\" in /usr/local/lib/python3.6/dist-packages (from ipywidgets==7.5.1->pandas-profiling==2.*) (5.5.0)\n",
            "Requirement already satisfied: nbformat>=4.2.0 in /usr/local/lib/python3.6/dist-packages (from ipywidgets==7.5.1->pandas-profiling==2.*) (5.0.4)\n",
            "Requirement already satisfied: MarkupSafe>=0.23 in /usr/local/lib/python3.6/dist-packages (from jinja2==2.11.1->pandas-profiling==2.*) (1.1.1)\n",
            "Requirement already satisfied: pytest>=4.0.2 in /usr/local/lib/python3.6/dist-packages (from phik==0.9.9->pandas-profiling==2.*) (5.3.5)\n",
            "Requirement already satisfied: nbconvert>=5.3.1 in /usr/local/lib/python3.6/dist-packages (from phik==0.9.9->pandas-profiling==2.*) (5.6.1)\n",
            "Requirement already satisfied: numba>=0.38.1 in /usr/local/lib/python3.6/dist-packages (from phik==0.9.9->pandas-profiling==2.*) (0.47.0)\n",
            "Requirement already satisfied: pytest-pylint>=0.13.0 in /usr/local/lib/python3.6/dist-packages (from phik==0.9.9->pandas-profiling==2.*) (0.15.0)\n",
            "Requirement already satisfied: joblib>=0.14.1 in /usr/local/lib/python3.6/dist-packages (from phik==0.9.9->pandas-profiling==2.*) (0.14.1)\n",
            "Requirement already satisfied: jupyter-client>=5.2.3 in /usr/local/lib/python3.6/dist-packages (from phik==0.9.9->pandas-profiling==2.*) (5.3.4)\n",
            "Requirement already satisfied: pyyaml in /usr/local/lib/python3.6/dist-packages (from confuse==1.0.0->pandas-profiling==2.*) (3.13)\n",
            "Requirement already satisfied: certifi in /usr/local/lib/python3.6/dist-packages (from kaggle==1.5.6->pandas-profiling==2.*) (2019.11.28)\n",
            "Requirement already satisfied: urllib3<1.25,>=1.21.1 in /usr/local/lib/python3.6/dist-packages (from kaggle==1.5.6->pandas-profiling==2.*) (1.24.3)\n",
            "Requirement already satisfied: six>=1.10 in /usr/local/lib/python3.6/dist-packages (from kaggle==1.5.6->pandas-profiling==2.*) (1.12.0)\n",
            "Requirement already satisfied: python-slugify in /usr/local/lib/python3.6/dist-packages (from kaggle==1.5.6->pandas-profiling==2.*) (4.0.0)\n",
            "Requirement already satisfied: kiwisolver>=1.0.1 in /usr/local/lib/python3.6/dist-packages (from matplotlib>=3.0.3->pandas-profiling==2.*) (1.1.0)\n",
            "Requirement already satisfied: cycler>=0.10 in /usr/local/lib/python3.6/dist-packages (from matplotlib>=3.0.3->pandas-profiling==2.*) (0.10.0)\n",
            "Requirement already satisfied: pyparsing!=2.0.4,!=2.1.2,!=2.1.6,>=2.0.1 in /usr/local/lib/python3.6/dist-packages (from matplotlib>=3.0.3->pandas-profiling==2.*) (2.4.6)\n",
            "Requirement already satisfied: chardet<3.1.0,>=3.0.2 in /usr/local/lib/python3.6/dist-packages (from requests==2.22.0->pandas-profiling==2.*) (3.0.4)\n",
            "Requirement already satisfied: idna<2.9,>=2.5 in /usr/local/lib/python3.6/dist-packages (from requests==2.22.0->pandas-profiling==2.*) (2.8)\n",
            "Requirement already satisfied: attr in /usr/local/lib/python3.6/dist-packages (from visions==0.2.2->pandas-profiling==2.*) (0.3.1)\n",
            "Requirement already satisfied: networkx in /usr/local/lib/python3.6/dist-packages (from visions==0.2.2->pandas-profiling==2.*) (2.4)\n",
            "Requirement already satisfied: notebook>=4.4.1 in /usr/local/lib/python3.6/dist-packages (from widgetsnbextension~=3.5.0->ipywidgets==7.5.1->pandas-profiling==2.*) (5.2.2)\n",
            "Requirement already satisfied: decorator in /usr/local/lib/python3.6/dist-packages (from traitlets>=4.3.1->ipywidgets==7.5.1->pandas-profiling==2.*) (4.4.1)\n",
            "Requirement already satisfied: ipython-genutils in /usr/local/lib/python3.6/dist-packages (from traitlets>=4.3.1->ipywidgets==7.5.1->pandas-profiling==2.*) (0.2.0)\n",
            "Requirement already satisfied: tornado>=4.0 in /usr/local/lib/python3.6/dist-packages (from ipykernel>=4.5.1->ipywidgets==7.5.1->pandas-profiling==2.*) (4.5.3)\n",
            "Requirement already satisfied: pygments in /usr/local/lib/python3.6/dist-packages (from ipython>=4.0.0; python_version >= \"3.3\"->ipywidgets==7.5.1->pandas-profiling==2.*) (2.1.3)\n",
            "Requirement already satisfied: setuptools>=18.5 in /usr/local/lib/python3.6/dist-packages (from ipython>=4.0.0; python_version >= \"3.3\"->ipywidgets==7.5.1->pandas-profiling==2.*) (45.1.0)\n",
            "Requirement already satisfied: pexpect; sys_platform != \"win32\" in /usr/local/lib/python3.6/dist-packages (from ipython>=4.0.0; python_version >= \"3.3\"->ipywidgets==7.5.1->pandas-profiling==2.*) (4.8.0)\n",
            "Requirement already satisfied: pickleshare in /usr/local/lib/python3.6/dist-packages (from ipython>=4.0.0; python_version >= \"3.3\"->ipywidgets==7.5.1->pandas-profiling==2.*) (0.7.5)\n",
            "Requirement already satisfied: simplegeneric>0.8 in /usr/local/lib/python3.6/dist-packages (from ipython>=4.0.0; python_version >= \"3.3\"->ipywidgets==7.5.1->pandas-profiling==2.*) (0.8.1)\n",
            "Requirement already satisfied: prompt-toolkit<2.0.0,>=1.0.4 in /usr/local/lib/python3.6/dist-packages (from ipython>=4.0.0; python_version >= \"3.3\"->ipywidgets==7.5.1->pandas-profiling==2.*) (1.0.18)\n",
            "Requirement already satisfied: jsonschema!=2.5.0,>=2.4 in /usr/local/lib/python3.6/dist-packages (from nbformat>=4.2.0->ipywidgets==7.5.1->pandas-profiling==2.*) (2.6.0)\n",
            "Requirement already satisfied: jupyter-core in /usr/local/lib/python3.6/dist-packages (from nbformat>=4.2.0->ipywidgets==7.5.1->pandas-profiling==2.*) (4.6.1)\n",
            "Requirement already satisfied: attrs>=17.4.0 in /usr/local/lib/python3.6/dist-packages (from pytest>=4.0.2->phik==0.9.9->pandas-profiling==2.*) (19.3.0)\n",
            "Requirement already satisfied: more-itertools>=4.0.0 in /usr/local/lib/python3.6/dist-packages (from pytest>=4.0.2->phik==0.9.9->pandas-profiling==2.*) (8.2.0)\n",
            "Requirement already satisfied: py>=1.5.0 in /usr/local/lib/python3.6/dist-packages (from pytest>=4.0.2->phik==0.9.9->pandas-profiling==2.*) (1.8.1)\n",
            "Requirement already satisfied: importlib-metadata>=0.12; python_version < \"3.8\" in /usr/local/lib/python3.6/dist-packages (from pytest>=4.0.2->phik==0.9.9->pandas-profiling==2.*) (1.5.0)\n",
            "Requirement already satisfied: pluggy<1.0,>=0.12 in /usr/local/lib/python3.6/dist-packages (from pytest>=4.0.2->phik==0.9.9->pandas-profiling==2.*) (0.13.1)\n",
            "Requirement already satisfied: wcwidth in /usr/local/lib/python3.6/dist-packages (from pytest>=4.0.2->phik==0.9.9->pandas-profiling==2.*) (0.1.8)\n",
            "Requirement already satisfied: packaging in /usr/local/lib/python3.6/dist-packages (from pytest>=4.0.2->phik==0.9.9->pandas-profiling==2.*) (20.1)\n",
            "Requirement already satisfied: pandocfilters>=1.4.1 in /usr/local/lib/python3.6/dist-packages (from nbconvert>=5.3.1->phik==0.9.9->pandas-profiling==2.*) (1.4.2)\n",
            "Requirement already satisfied: bleach in /usr/local/lib/python3.6/dist-packages (from nbconvert>=5.3.1->phik==0.9.9->pandas-profiling==2.*) (3.1.0)\n",
            "Requirement already satisfied: testpath in /usr/local/lib/python3.6/dist-packages (from nbconvert>=5.3.1->phik==0.9.9->pandas-profiling==2.*) (0.4.4)\n",
            "Requirement already satisfied: mistune<2,>=0.8.1 in /usr/local/lib/python3.6/dist-packages (from nbconvert>=5.3.1->phik==0.9.9->pandas-profiling==2.*) (0.8.4)\n",
            "Requirement already satisfied: defusedxml in /usr/local/lib/python3.6/dist-packages (from nbconvert>=5.3.1->phik==0.9.9->pandas-profiling==2.*) (0.6.0)\n",
            "Requirement already satisfied: entrypoints>=0.2.2 in /usr/local/lib/python3.6/dist-packages (from nbconvert>=5.3.1->phik==0.9.9->pandas-profiling==2.*) (0.3)\n",
            "Requirement already satisfied: llvmlite>=0.31.0dev0 in /usr/local/lib/python3.6/dist-packages (from numba>=0.38.1->phik==0.9.9->pandas-profiling==2.*) (0.31.0)\n",
            "Requirement already satisfied: pylint>=2.0.0 in /usr/local/lib/python3.6/dist-packages (from pytest-pylint>=0.13.0->phik==0.9.9->pandas-profiling==2.*) (2.4.4)\n",
            "Requirement already satisfied: pyzmq>=13 in /usr/local/lib/python3.6/dist-packages (from jupyter-client>=5.2.3->phik==0.9.9->pandas-profiling==2.*) (17.0.0)\n",
            "Requirement already satisfied: text-unidecode>=1.3 in /usr/local/lib/python3.6/dist-packages (from python-slugify->kaggle==1.5.6->pandas-profiling==2.*) (1.3)\n",
            "Requirement already satisfied: terminado>=0.3.3; sys_platform != \"win32\" in /usr/local/lib/python3.6/dist-packages (from notebook>=4.4.1->widgetsnbextension~=3.5.0->ipywidgets==7.5.1->pandas-profiling==2.*) (0.8.3)\n",
            "Requirement already satisfied: ptyprocess>=0.5 in /usr/local/lib/python3.6/dist-packages (from pexpect; sys_platform != \"win32\"->ipython>=4.0.0; python_version >= \"3.3\"->ipywidgets==7.5.1->pandas-profiling==2.*) (0.6.0)\n",
            "Requirement already satisfied: zipp>=0.5 in /usr/local/lib/python3.6/dist-packages (from importlib-metadata>=0.12; python_version < \"3.8\"->pytest>=4.0.2->phik==0.9.9->pandas-profiling==2.*) (2.2.0)\n",
            "Requirement already satisfied: webencodings in /usr/local/lib/python3.6/dist-packages (from bleach->nbconvert>=5.3.1->phik==0.9.9->pandas-profiling==2.*) (0.5.1)\n",
            "Requirement already satisfied: mccabe<0.7,>=0.6 in /usr/local/lib/python3.6/dist-packages (from pylint>=2.0.0->pytest-pylint>=0.13.0->phik==0.9.9->pandas-profiling==2.*) (0.6.1)\n",
            "Requirement already satisfied: isort<5,>=4.2.5 in /usr/local/lib/python3.6/dist-packages (from pylint>=2.0.0->pytest-pylint>=0.13.0->phik==0.9.9->pandas-profiling==2.*) (4.3.21)\n",
            "Requirement already satisfied: astroid<2.4,>=2.3.0 in /usr/local/lib/python3.6/dist-packages (from pylint>=2.0.0->pytest-pylint>=0.13.0->phik==0.9.9->pandas-profiling==2.*) (2.3.3)\n",
            "Requirement already satisfied: typed-ast<1.5,>=1.4.0; implementation_name == \"cpython\" and python_version < \"3.8\" in /usr/local/lib/python3.6/dist-packages (from astroid<2.4,>=2.3.0->pylint>=2.0.0->pytest-pylint>=0.13.0->phik==0.9.9->pandas-profiling==2.*) (1.4.1)\n",
            "Requirement already satisfied: wrapt==1.11.* in /usr/local/lib/python3.6/dist-packages (from astroid<2.4,>=2.3.0->pylint>=2.0.0->pytest-pylint>=0.13.0->phik==0.9.9->pandas-profiling==2.*) (1.11.2)\n",
            "Requirement already satisfied: lazy-object-proxy==1.4.* in /usr/local/lib/python3.6/dist-packages (from astroid<2.4,>=2.3.0->pylint>=2.0.0->pytest-pylint>=0.13.0->phik==0.9.9->pandas-profiling==2.*) (1.4.3)\n",
            "Requirement already satisfied: plotly==4.* in /usr/local/lib/python3.6/dist-packages (4.4.1)\n",
            "Requirement already satisfied: retrying>=1.3.3 in /usr/local/lib/python3.6/dist-packages (from plotly==4.*) (1.3.3)\n",
            "Requirement already satisfied: six in /usr/local/lib/python3.6/dist-packages (from plotly==4.*) (1.12.0)\n"
          ],
          "name": "stdout"
        }
      ]
    },
    {
      "cell_type": "markdown",
      "metadata": {
        "colab_type": "text",
        "id": "Q7u1KtsnOi78"
      },
      "source": [
        "# Part 1, Classification: Predict Blood Donations 🚑\n",
        "Our dataset is from a mobile blood donation vehicle in Taiwan. The Blood Transfusion Service Center drives to different universities and collects blood as part of a blood drive.\n",
        "\n",
        "The goal is to predict whether the donor made a donation in March 2007, using information about each donor's history.\n",
        "\n",
        "Good data-driven systems for tracking and predicting donations and supply needs can improve the entire supply chain, making sure that more patients get the blood transfusions they need."
      ]
    },
    {
      "cell_type": "code",
      "metadata": {
        "colab_type": "code",
        "id": "gJzpgv-fO4rh",
        "colab": {}
      },
      "source": [
        "import pandas as pd\n",
        "\n",
        "donors = pd.read_csv('https://archive.ics.uci.edu/ml/machine-learning-databases/blood-transfusion/transfusion.data')\n",
        "assert donors.shape == (748,5)\n",
        "\n",
        "donors = donors.rename(columns={\n",
        "    'Recency (months)': 'months_since_last_donation', \n",
        "    'Frequency (times)': 'number_of_donations', \n",
        "    'Monetary (c.c. blood)': 'total_volume_donated', \n",
        "    'Time (months)': 'months_since_first_donation', \n",
        "    'whether he/she donated blood in March 2007': 'made_donation_in_march_2007'\n",
        "})"
      ],
      "execution_count": 0,
      "outputs": []
    },
    {
      "cell_type": "markdown",
      "metadata": {
        "colab_type": "text",
        "id": "oU4oE0LJMG7X"
      },
      "source": [
        "Notice that the majority class (did not donate blood in March 2007) occurs about 3/4 of the time. \n",
        "\n",
        "This is the accuracy score for the \"majority class baseline\" (the accuracy score we'd get by just guessing the majority class every time)."
      ]
    },
    {
      "cell_type": "code",
      "metadata": {
        "colab_type": "code",
        "id": "TgRp5slvLzJs",
        "colab": {
          "base_uri": "https://localhost:8080/",
          "height": 72
        },
        "outputId": "d14cd950-64ee-4b65-b007-d54e21b38d41"
      },
      "source": [
        "donors['made_donation_in_march_2007'].value_counts(normalize=True)"
      ],
      "execution_count": 174,
      "outputs": [
        {
          "output_type": "execute_result",
          "data": {
            "text/plain": [
              "0    0.762032\n",
              "1    0.237968\n",
              "Name: made_donation_in_march_2007, dtype: float64"
            ]
          },
          "metadata": {
            "tags": []
          },
          "execution_count": 174
        }
      ]
    },
    {
      "cell_type": "markdown",
      "metadata": {
        "colab_type": "text",
        "id": "P66Fpcq1PYZl"
      },
      "source": [
        "## 1.1. Do train/test split. Arrange data into X features matrix and y target vector\n",
        "\n",
        "Do these steps in either order.\n",
        "\n",
        "Use scikit-learn's train/test split function to split randomly. (You can include 75% of the data in the train set, and hold out 25% for the test set, which is the default.)"
      ]
    },
    {
      "cell_type": "code",
      "metadata": {
        "colab_type": "code",
        "id": "InhicZeZPX8L",
        "colab": {}
      },
      "source": [
        "import numpy as np\n",
        "from sklearn.model_selection import train_test_split\n",
        "\n",
        "features = ['months_since_last_donation', 'number_of_donations', 'total_volume_donated', 'months_since_first_donation']\n",
        "target = 'made_donation_in_march_2007'\n",
        "\n",
        "X = donors[features]\n",
        "y = donors[target]\n",
        "\n",
        "X_train, X_test, y_train, y_test = train_test_split(X, y , test_size=0.25, random_state=True)"
      ],
      "execution_count": 0,
      "outputs": []
    },
    {
      "cell_type": "code",
      "metadata": {
        "id": "l3b2nzH4eP79",
        "colab_type": "code",
        "colab": {
          "base_uri": "https://localhost:8080/",
          "height": 407
        },
        "outputId": "2137ba05-c053-4da2-b9d9-2053ff9661ce"
      },
      "source": [
        "X_train"
      ],
      "execution_count": 176,
      "outputs": [
        {
          "output_type": "execute_result",
          "data": {
            "text/html": [
              "<div>\n",
              "<style scoped>\n",
              "    .dataframe tbody tr th:only-of-type {\n",
              "        vertical-align: middle;\n",
              "    }\n",
              "\n",
              "    .dataframe tbody tr th {\n",
              "        vertical-align: top;\n",
              "    }\n",
              "\n",
              "    .dataframe thead th {\n",
              "        text-align: right;\n",
              "    }\n",
              "</style>\n",
              "<table border=\"1\" class=\"dataframe\">\n",
              "  <thead>\n",
              "    <tr style=\"text-align: right;\">\n",
              "      <th></th>\n",
              "      <th>months_since_last_donation</th>\n",
              "      <th>number_of_donations</th>\n",
              "      <th>total_volume_donated</th>\n",
              "      <th>months_since_first_donation</th>\n",
              "    </tr>\n",
              "  </thead>\n",
              "  <tbody>\n",
              "    <tr>\n",
              "      <th>352</th>\n",
              "      <td>11</td>\n",
              "      <td>5</td>\n",
              "      <td>1250</td>\n",
              "      <td>50</td>\n",
              "    </tr>\n",
              "    <tr>\n",
              "      <th>207</th>\n",
              "      <td>2</td>\n",
              "      <td>7</td>\n",
              "      <td>1750</td>\n",
              "      <td>76</td>\n",
              "    </tr>\n",
              "    <tr>\n",
              "      <th>107</th>\n",
              "      <td>3</td>\n",
              "      <td>5</td>\n",
              "      <td>1250</td>\n",
              "      <td>26</td>\n",
              "    </tr>\n",
              "    <tr>\n",
              "      <th>17</th>\n",
              "      <td>2</td>\n",
              "      <td>15</td>\n",
              "      <td>3750</td>\n",
              "      <td>49</td>\n",
              "    </tr>\n",
              "    <tr>\n",
              "      <th>714</th>\n",
              "      <td>16</td>\n",
              "      <td>4</td>\n",
              "      <td>1000</td>\n",
              "      <td>58</td>\n",
              "    </tr>\n",
              "    <tr>\n",
              "      <th>...</th>\n",
              "      <td>...</td>\n",
              "      <td>...</td>\n",
              "      <td>...</td>\n",
              "      <td>...</td>\n",
              "    </tr>\n",
              "    <tr>\n",
              "      <th>645</th>\n",
              "      <td>14</td>\n",
              "      <td>2</td>\n",
              "      <td>500</td>\n",
              "      <td>14</td>\n",
              "    </tr>\n",
              "    <tr>\n",
              "      <th>715</th>\n",
              "      <td>16</td>\n",
              "      <td>5</td>\n",
              "      <td>1250</td>\n",
              "      <td>71</td>\n",
              "    </tr>\n",
              "    <tr>\n",
              "      <th>72</th>\n",
              "      <td>4</td>\n",
              "      <td>17</td>\n",
              "      <td>4250</td>\n",
              "      <td>71</td>\n",
              "    </tr>\n",
              "    <tr>\n",
              "      <th>235</th>\n",
              "      <td>8</td>\n",
              "      <td>10</td>\n",
              "      <td>2500</td>\n",
              "      <td>63</td>\n",
              "    </tr>\n",
              "    <tr>\n",
              "      <th>37</th>\n",
              "      <td>4</td>\n",
              "      <td>6</td>\n",
              "      <td>1500</td>\n",
              "      <td>16</td>\n",
              "    </tr>\n",
              "  </tbody>\n",
              "</table>\n",
              "<p>561 rows × 4 columns</p>\n",
              "</div>"
            ],
            "text/plain": [
              "     months_since_last_donation  ...  months_since_first_donation\n",
              "352                          11  ...                           50\n",
              "207                           2  ...                           76\n",
              "107                           3  ...                           26\n",
              "17                            2  ...                           49\n",
              "714                          16  ...                           58\n",
              "..                          ...  ...                          ...\n",
              "645                          14  ...                           14\n",
              "715                          16  ...                           71\n",
              "72                            4  ...                           71\n",
              "235                           8  ...                           63\n",
              "37                            4  ...                           16\n",
              "\n",
              "[561 rows x 4 columns]"
            ]
          },
          "metadata": {
            "tags": []
          },
          "execution_count": 176
        }
      ]
    },
    {
      "cell_type": "code",
      "metadata": {
        "id": "wgsgWzmBgQ_j",
        "colab_type": "code",
        "colab": {
          "base_uri": "https://localhost:8080/",
          "height": 407
        },
        "outputId": "d2f798ae-567a-40be-b436-92bd7932c960"
      },
      "source": [
        "X_test"
      ],
      "execution_count": 177,
      "outputs": [
        {
          "output_type": "execute_result",
          "data": {
            "text/html": [
              "<div>\n",
              "<style scoped>\n",
              "    .dataframe tbody tr th:only-of-type {\n",
              "        vertical-align: middle;\n",
              "    }\n",
              "\n",
              "    .dataframe tbody tr th {\n",
              "        vertical-align: top;\n",
              "    }\n",
              "\n",
              "    .dataframe thead th {\n",
              "        text-align: right;\n",
              "    }\n",
              "</style>\n",
              "<table border=\"1\" class=\"dataframe\">\n",
              "  <thead>\n",
              "    <tr style=\"text-align: right;\">\n",
              "      <th></th>\n",
              "      <th>months_since_last_donation</th>\n",
              "      <th>number_of_donations</th>\n",
              "      <th>total_volume_donated</th>\n",
              "      <th>months_since_first_donation</th>\n",
              "    </tr>\n",
              "  </thead>\n",
              "  <tbody>\n",
              "    <tr>\n",
              "      <th>265</th>\n",
              "      <td>4</td>\n",
              "      <td>4</td>\n",
              "      <td>1000</td>\n",
              "      <td>43</td>\n",
              "    </tr>\n",
              "    <tr>\n",
              "      <th>519</th>\n",
              "      <td>4</td>\n",
              "      <td>10</td>\n",
              "      <td>2500</td>\n",
              "      <td>28</td>\n",
              "    </tr>\n",
              "    <tr>\n",
              "      <th>584</th>\n",
              "      <td>2</td>\n",
              "      <td>1</td>\n",
              "      <td>250</td>\n",
              "      <td>2</td>\n",
              "    </tr>\n",
              "    <tr>\n",
              "      <th>717</th>\n",
              "      <td>21</td>\n",
              "      <td>3</td>\n",
              "      <td>750</td>\n",
              "      <td>35</td>\n",
              "    </tr>\n",
              "    <tr>\n",
              "      <th>90</th>\n",
              "      <td>4</td>\n",
              "      <td>2</td>\n",
              "      <td>500</td>\n",
              "      <td>4</td>\n",
              "    </tr>\n",
              "    <tr>\n",
              "      <th>...</th>\n",
              "      <td>...</td>\n",
              "      <td>...</td>\n",
              "      <td>...</td>\n",
              "      <td>...</td>\n",
              "    </tr>\n",
              "    <tr>\n",
              "      <th>349</th>\n",
              "      <td>11</td>\n",
              "      <td>1</td>\n",
              "      <td>250</td>\n",
              "      <td>11</td>\n",
              "    </tr>\n",
              "    <tr>\n",
              "      <th>495</th>\n",
              "      <td>35</td>\n",
              "      <td>3</td>\n",
              "      <td>750</td>\n",
              "      <td>64</td>\n",
              "    </tr>\n",
              "    <tr>\n",
              "      <th>119</th>\n",
              "      <td>2</td>\n",
              "      <td>11</td>\n",
              "      <td>2750</td>\n",
              "      <td>79</td>\n",
              "    </tr>\n",
              "    <tr>\n",
              "      <th>82</th>\n",
              "      <td>2</td>\n",
              "      <td>4</td>\n",
              "      <td>1000</td>\n",
              "      <td>16</td>\n",
              "    </tr>\n",
              "    <tr>\n",
              "      <th>350</th>\n",
              "      <td>11</td>\n",
              "      <td>1</td>\n",
              "      <td>250</td>\n",
              "      <td>11</td>\n",
              "    </tr>\n",
              "  </tbody>\n",
              "</table>\n",
              "<p>187 rows × 4 columns</p>\n",
              "</div>"
            ],
            "text/plain": [
              "     months_since_last_donation  ...  months_since_first_donation\n",
              "265                           4  ...                           43\n",
              "519                           4  ...                           28\n",
              "584                           2  ...                            2\n",
              "717                          21  ...                           35\n",
              "90                            4  ...                            4\n",
              "..                          ...  ...                          ...\n",
              "349                          11  ...                           11\n",
              "495                          35  ...                           64\n",
              "119                           2  ...                           79\n",
              "82                            2  ...                           16\n",
              "350                          11  ...                           11\n",
              "\n",
              "[187 rows x 4 columns]"
            ]
          },
          "metadata": {
            "tags": []
          },
          "execution_count": 177
        }
      ]
    },
    {
      "cell_type": "code",
      "metadata": {
        "id": "g31FygosgTVo",
        "colab_type": "code",
        "colab": {
          "base_uri": "https://localhost:8080/",
          "height": 235
        },
        "outputId": "f985b4bd-77b5-4d96-a971-204ced942c6c"
      },
      "source": [
        "y_train"
      ],
      "execution_count": 178,
      "outputs": [
        {
          "output_type": "execute_result",
          "data": {
            "text/plain": [
              "352    0\n",
              "207    0\n",
              "107    0\n",
              "17     1\n",
              "714    0\n",
              "      ..\n",
              "645    0\n",
              "715    0\n",
              "72     1\n",
              "235    0\n",
              "37     1\n",
              "Name: made_donation_in_march_2007, Length: 561, dtype: int64"
            ]
          },
          "metadata": {
            "tags": []
          },
          "execution_count": 178
        }
      ]
    },
    {
      "cell_type": "code",
      "metadata": {
        "id": "imTrJPYtgWrT",
        "colab_type": "code",
        "colab": {
          "base_uri": "https://localhost:8080/",
          "height": 235
        },
        "outputId": "dbafd263-7e9a-4deb-cca4-886195db3457"
      },
      "source": [
        "y_test"
      ],
      "execution_count": 179,
      "outputs": [
        {
          "output_type": "execute_result",
          "data": {
            "text/plain": [
              "265    1\n",
              "519    1\n",
              "584    0\n",
              "717    0\n",
              "90     1\n",
              "      ..\n",
              "349    0\n",
              "495    0\n",
              "119    1\n",
              "82     0\n",
              "350    0\n",
              "Name: made_donation_in_march_2007, Length: 187, dtype: int64"
            ]
          },
          "metadata": {
            "tags": []
          },
          "execution_count": 179
        }
      ]
    },
    {
      "cell_type": "markdown",
      "metadata": {
        "colab_type": "text",
        "id": "ln9fqAghRmQT"
      },
      "source": [
        "## 1.2. Use scikit-learn to fit a logistic regression model\n",
        "\n",
        "You may use any number of features"
      ]
    },
    {
      "cell_type": "code",
      "metadata": {
        "colab_type": "code",
        "id": "a2jf_deRRl64",
        "colab": {}
      },
      "source": [
        "from sklearn.impute import SimpleImputer\n",
        "from sklearn.preprocessing import StandardScaler\n",
        "\n",
        "imputer = SimpleImputer(strategy='mean')\n",
        "X_train_imputed = imputer.fit_transform(X_train)"
      ],
      "execution_count": 0,
      "outputs": []
    },
    {
      "cell_type": "code",
      "metadata": {
        "id": "-BiCJ1cugn3_",
        "colab_type": "code",
        "colab": {}
      },
      "source": [
        "scaler = StandardScaler()\n",
        "X_train_scaled = scaler.fit_transform(X_train_imputed)"
      ],
      "execution_count": 0,
      "outputs": []
    },
    {
      "cell_type": "code",
      "metadata": {
        "id": "IVzusNRqgs-s",
        "colab_type": "code",
        "colab": {
          "base_uri": "https://localhost:8080/",
          "height": 108
        },
        "outputId": "0ec1b816-5f54-4643-ea99-91eedd2c5317"
      },
      "source": [
        "from sklearn.linear_model import LogisticRegression\n",
        "\n",
        "model = LogisticRegression()\n",
        "model.fit(X_train_scaled, y_train)"
      ],
      "execution_count": 182,
      "outputs": [
        {
          "output_type": "execute_result",
          "data": {
            "text/plain": [
              "LogisticRegression(C=1.0, class_weight=None, dual=False, fit_intercept=True,\n",
              "                   intercept_scaling=1, l1_ratio=None, max_iter=100,\n",
              "                   multi_class='auto', n_jobs=None, penalty='l2',\n",
              "                   random_state=None, solver='lbfgs', tol=0.0001, verbose=0,\n",
              "                   warm_start=False)"
            ]
          },
          "metadata": {
            "tags": []
          },
          "execution_count": 182
        }
      ]
    },
    {
      "cell_type": "markdown",
      "metadata": {
        "colab_type": "text",
        "id": "Ah6EhiRVSusy"
      },
      "source": [
        "## 1.3. Report classification metric: accuracy\n",
        "\n",
        "What is your model's accuracy on the test set?\n",
        "\n",
        "Don't worry if your model doesn't beat the majority class baseline. That's okay!\n",
        "\n",
        "_\"The combination of some data and an aching desire for an answer does not ensure that a reasonable answer can be extracted from a given body of data.\"_ —[John Tukey](https://en.wikiquote.org/wiki/John_Tukey)\n",
        "\n",
        "(Also, if we used recall score instead of accuracy score, then your model would almost certainly beat the baseline. We'll discuss how to choose and interpret evaluation metrics throughout this unit.)\n"
      ]
    },
    {
      "cell_type": "code",
      "metadata": {
        "colab_type": "code",
        "id": "ZfJ2NFsASt9_",
        "colab": {
          "base_uri": "https://localhost:8080/",
          "height": 35
        },
        "outputId": "151c9b89-c45b-4679-a8e7-05bcd7811cb1"
      },
      "source": [
        "log_reg = LogisticRegression(solver='lbfgs')\n",
        "log_reg.fit(X_train_scaled, y_train)\n",
        "print('Accuracy', log_reg.score(X_train_scaled, y_train))"
      ],
      "execution_count": 183,
      "outputs": [
        {
          "output_type": "stream",
          "text": [
            "Accuracy 0.7789661319073083\n"
          ],
          "name": "stdout"
        }
      ]
    },
    {
      "cell_type": "markdown",
      "metadata": {
        "colab_type": "text",
        "id": "xDmZn3ApOM7t"
      },
      "source": [
        "# Part 2, Regression: Predict home prices in Ames, Iowa 🏠\n",
        "\n",
        "You'll use historical housing data. ***There's a data dictionary at the bottom of the notebook.*** \n",
        "\n",
        "Run this code cell to load the dataset:\n",
        "\n",
        "\n",
        "\n"
      ]
    },
    {
      "cell_type": "code",
      "metadata": {
        "colab_type": "code",
        "id": "7ptoRG1lu7H4",
        "colab": {}
      },
      "source": [
        "import pandas as pd\n",
        "URL = 'https://drive.google.com/uc?export=download&id=1522WlEW6HFss36roD_Cd9nybqSuiVcCK'\n",
        "homes = pd.read_csv(URL)\n",
        "assert homes.shape == (2904, 47)"
      ],
      "execution_count": 0,
      "outputs": []
    },
    {
      "cell_type": "code",
      "metadata": {
        "id": "M7oEbs_tiChO",
        "colab_type": "code",
        "colab": {
          "base_uri": "https://localhost:8080/",
          "height": 1000
        },
        "outputId": "d654ace4-8430-4ddb-8ed6-50adb4c2042a"
      },
      "source": [
        "homes.head().T"
      ],
      "execution_count": 185,
      "outputs": [
        {
          "output_type": "execute_result",
          "data": {
            "text/html": [
              "<div>\n",
              "<style scoped>\n",
              "    .dataframe tbody tr th:only-of-type {\n",
              "        vertical-align: middle;\n",
              "    }\n",
              "\n",
              "    .dataframe tbody tr th {\n",
              "        vertical-align: top;\n",
              "    }\n",
              "\n",
              "    .dataframe thead th {\n",
              "        text-align: right;\n",
              "    }\n",
              "</style>\n",
              "<table border=\"1\" class=\"dataframe\">\n",
              "  <thead>\n",
              "    <tr style=\"text-align: right;\">\n",
              "      <th></th>\n",
              "      <th>0</th>\n",
              "      <th>1</th>\n",
              "      <th>2</th>\n",
              "      <th>3</th>\n",
              "      <th>4</th>\n",
              "    </tr>\n",
              "  </thead>\n",
              "  <tbody>\n",
              "    <tr>\n",
              "      <th>1st_Flr_SF</th>\n",
              "      <td>1656</td>\n",
              "      <td>896</td>\n",
              "      <td>1329</td>\n",
              "      <td>2110</td>\n",
              "      <td>928</td>\n",
              "    </tr>\n",
              "    <tr>\n",
              "      <th>Bedroom_AbvGr</th>\n",
              "      <td>3</td>\n",
              "      <td>2</td>\n",
              "      <td>3</td>\n",
              "      <td>3</td>\n",
              "      <td>3</td>\n",
              "    </tr>\n",
              "    <tr>\n",
              "      <th>Bldg_Type</th>\n",
              "      <td>1Fam</td>\n",
              "      <td>1Fam</td>\n",
              "      <td>1Fam</td>\n",
              "      <td>1Fam</td>\n",
              "      <td>1Fam</td>\n",
              "    </tr>\n",
              "    <tr>\n",
              "      <th>Bsmt_Full_Bath</th>\n",
              "      <td>1</td>\n",
              "      <td>0</td>\n",
              "      <td>0</td>\n",
              "      <td>1</td>\n",
              "      <td>0</td>\n",
              "    </tr>\n",
              "    <tr>\n",
              "      <th>Bsmt_Half_Bath</th>\n",
              "      <td>0</td>\n",
              "      <td>0</td>\n",
              "      <td>0</td>\n",
              "      <td>0</td>\n",
              "      <td>0</td>\n",
              "    </tr>\n",
              "    <tr>\n",
              "      <th>Central_Air</th>\n",
              "      <td>Y</td>\n",
              "      <td>Y</td>\n",
              "      <td>Y</td>\n",
              "      <td>Y</td>\n",
              "      <td>Y</td>\n",
              "    </tr>\n",
              "    <tr>\n",
              "      <th>Condition_1</th>\n",
              "      <td>Norm</td>\n",
              "      <td>Feedr</td>\n",
              "      <td>Norm</td>\n",
              "      <td>Norm</td>\n",
              "      <td>Norm</td>\n",
              "    </tr>\n",
              "    <tr>\n",
              "      <th>Condition_2</th>\n",
              "      <td>Norm</td>\n",
              "      <td>Norm</td>\n",
              "      <td>Norm</td>\n",
              "      <td>Norm</td>\n",
              "      <td>Norm</td>\n",
              "    </tr>\n",
              "    <tr>\n",
              "      <th>Electrical</th>\n",
              "      <td>SBrkr</td>\n",
              "      <td>SBrkr</td>\n",
              "      <td>SBrkr</td>\n",
              "      <td>SBrkr</td>\n",
              "      <td>SBrkr</td>\n",
              "    </tr>\n",
              "    <tr>\n",
              "      <th>Exter_Cond</th>\n",
              "      <td>TA</td>\n",
              "      <td>TA</td>\n",
              "      <td>TA</td>\n",
              "      <td>TA</td>\n",
              "      <td>TA</td>\n",
              "    </tr>\n",
              "    <tr>\n",
              "      <th>Exter_Qual</th>\n",
              "      <td>TA</td>\n",
              "      <td>TA</td>\n",
              "      <td>TA</td>\n",
              "      <td>Gd</td>\n",
              "      <td>TA</td>\n",
              "    </tr>\n",
              "    <tr>\n",
              "      <th>Exterior_1st</th>\n",
              "      <td>BrkFace</td>\n",
              "      <td>VinylSd</td>\n",
              "      <td>Wd Sdng</td>\n",
              "      <td>BrkFace</td>\n",
              "      <td>VinylSd</td>\n",
              "    </tr>\n",
              "    <tr>\n",
              "      <th>Exterior_2nd</th>\n",
              "      <td>Plywood</td>\n",
              "      <td>VinylSd</td>\n",
              "      <td>Wd Sdng</td>\n",
              "      <td>BrkFace</td>\n",
              "      <td>VinylSd</td>\n",
              "    </tr>\n",
              "    <tr>\n",
              "      <th>Foundation</th>\n",
              "      <td>CBlock</td>\n",
              "      <td>CBlock</td>\n",
              "      <td>CBlock</td>\n",
              "      <td>CBlock</td>\n",
              "      <td>PConc</td>\n",
              "    </tr>\n",
              "    <tr>\n",
              "      <th>Full_Bath</th>\n",
              "      <td>1</td>\n",
              "      <td>1</td>\n",
              "      <td>1</td>\n",
              "      <td>2</td>\n",
              "      <td>2</td>\n",
              "    </tr>\n",
              "    <tr>\n",
              "      <th>Functional</th>\n",
              "      <td>Typ</td>\n",
              "      <td>Typ</td>\n",
              "      <td>Typ</td>\n",
              "      <td>Typ</td>\n",
              "      <td>Typ</td>\n",
              "    </tr>\n",
              "    <tr>\n",
              "      <th>Gr_Liv_Area</th>\n",
              "      <td>1656</td>\n",
              "      <td>896</td>\n",
              "      <td>1329</td>\n",
              "      <td>2110</td>\n",
              "      <td>1629</td>\n",
              "    </tr>\n",
              "    <tr>\n",
              "      <th>Half_Bath</th>\n",
              "      <td>0</td>\n",
              "      <td>0</td>\n",
              "      <td>1</td>\n",
              "      <td>1</td>\n",
              "      <td>1</td>\n",
              "    </tr>\n",
              "    <tr>\n",
              "      <th>Heating</th>\n",
              "      <td>GasA</td>\n",
              "      <td>GasA</td>\n",
              "      <td>GasA</td>\n",
              "      <td>GasA</td>\n",
              "      <td>GasA</td>\n",
              "    </tr>\n",
              "    <tr>\n",
              "      <th>Heating_QC</th>\n",
              "      <td>Fa</td>\n",
              "      <td>TA</td>\n",
              "      <td>TA</td>\n",
              "      <td>Ex</td>\n",
              "      <td>Gd</td>\n",
              "    </tr>\n",
              "    <tr>\n",
              "      <th>House_Style</th>\n",
              "      <td>1Story</td>\n",
              "      <td>1Story</td>\n",
              "      <td>1Story</td>\n",
              "      <td>1Story</td>\n",
              "      <td>2Story</td>\n",
              "    </tr>\n",
              "    <tr>\n",
              "      <th>Kitchen_AbvGr</th>\n",
              "      <td>1</td>\n",
              "      <td>1</td>\n",
              "      <td>1</td>\n",
              "      <td>1</td>\n",
              "      <td>1</td>\n",
              "    </tr>\n",
              "    <tr>\n",
              "      <th>Kitchen_Qual</th>\n",
              "      <td>TA</td>\n",
              "      <td>TA</td>\n",
              "      <td>Gd</td>\n",
              "      <td>Ex</td>\n",
              "      <td>TA</td>\n",
              "    </tr>\n",
              "    <tr>\n",
              "      <th>Land_Contour</th>\n",
              "      <td>Lvl</td>\n",
              "      <td>Lvl</td>\n",
              "      <td>Lvl</td>\n",
              "      <td>Lvl</td>\n",
              "      <td>Lvl</td>\n",
              "    </tr>\n",
              "    <tr>\n",
              "      <th>Land_Slope</th>\n",
              "      <td>Gtl</td>\n",
              "      <td>Gtl</td>\n",
              "      <td>Gtl</td>\n",
              "      <td>Gtl</td>\n",
              "      <td>Gtl</td>\n",
              "    </tr>\n",
              "    <tr>\n",
              "      <th>Lot_Area</th>\n",
              "      <td>31770</td>\n",
              "      <td>11622</td>\n",
              "      <td>14267</td>\n",
              "      <td>11160</td>\n",
              "      <td>13830</td>\n",
              "    </tr>\n",
              "    <tr>\n",
              "      <th>Lot_Config</th>\n",
              "      <td>Corner</td>\n",
              "      <td>Inside</td>\n",
              "      <td>Corner</td>\n",
              "      <td>Corner</td>\n",
              "      <td>Inside</td>\n",
              "    </tr>\n",
              "    <tr>\n",
              "      <th>Lot_Shape</th>\n",
              "      <td>IR1</td>\n",
              "      <td>Reg</td>\n",
              "      <td>IR1</td>\n",
              "      <td>Reg</td>\n",
              "      <td>IR1</td>\n",
              "    </tr>\n",
              "    <tr>\n",
              "      <th>MS_SubClass</th>\n",
              "      <td>20</td>\n",
              "      <td>20</td>\n",
              "      <td>20</td>\n",
              "      <td>20</td>\n",
              "      <td>60</td>\n",
              "    </tr>\n",
              "    <tr>\n",
              "      <th>MS_Zoning</th>\n",
              "      <td>RL</td>\n",
              "      <td>RH</td>\n",
              "      <td>RL</td>\n",
              "      <td>RL</td>\n",
              "      <td>RL</td>\n",
              "    </tr>\n",
              "    <tr>\n",
              "      <th>Mas_Vnr_Type</th>\n",
              "      <td>Stone</td>\n",
              "      <td>None</td>\n",
              "      <td>BrkFace</td>\n",
              "      <td>None</td>\n",
              "      <td>None</td>\n",
              "    </tr>\n",
              "    <tr>\n",
              "      <th>Mo_Sold</th>\n",
              "      <td>5</td>\n",
              "      <td>6</td>\n",
              "      <td>6</td>\n",
              "      <td>4</td>\n",
              "      <td>3</td>\n",
              "    </tr>\n",
              "    <tr>\n",
              "      <th>Neighborhood</th>\n",
              "      <td>NAmes</td>\n",
              "      <td>NAmes</td>\n",
              "      <td>NAmes</td>\n",
              "      <td>NAmes</td>\n",
              "      <td>Gilbert</td>\n",
              "    </tr>\n",
              "    <tr>\n",
              "      <th>Overall_Cond</th>\n",
              "      <td>5</td>\n",
              "      <td>6</td>\n",
              "      <td>6</td>\n",
              "      <td>5</td>\n",
              "      <td>5</td>\n",
              "    </tr>\n",
              "    <tr>\n",
              "      <th>Overall_Qual</th>\n",
              "      <td>6</td>\n",
              "      <td>5</td>\n",
              "      <td>6</td>\n",
              "      <td>7</td>\n",
              "      <td>5</td>\n",
              "    </tr>\n",
              "    <tr>\n",
              "      <th>Paved_Drive</th>\n",
              "      <td>P</td>\n",
              "      <td>Y</td>\n",
              "      <td>Y</td>\n",
              "      <td>Y</td>\n",
              "      <td>Y</td>\n",
              "    </tr>\n",
              "    <tr>\n",
              "      <th>Roof_Matl</th>\n",
              "      <td>CompShg</td>\n",
              "      <td>CompShg</td>\n",
              "      <td>CompShg</td>\n",
              "      <td>CompShg</td>\n",
              "      <td>CompShg</td>\n",
              "    </tr>\n",
              "    <tr>\n",
              "      <th>Roof_Style</th>\n",
              "      <td>Hip</td>\n",
              "      <td>Gable</td>\n",
              "      <td>Hip</td>\n",
              "      <td>Hip</td>\n",
              "      <td>Gable</td>\n",
              "    </tr>\n",
              "    <tr>\n",
              "      <th>SalePrice</th>\n",
              "      <td>215000</td>\n",
              "      <td>105000</td>\n",
              "      <td>172000</td>\n",
              "      <td>244000</td>\n",
              "      <td>189900</td>\n",
              "    </tr>\n",
              "    <tr>\n",
              "      <th>Sale_Condition</th>\n",
              "      <td>Normal</td>\n",
              "      <td>Normal</td>\n",
              "      <td>Normal</td>\n",
              "      <td>Normal</td>\n",
              "      <td>Normal</td>\n",
              "    </tr>\n",
              "    <tr>\n",
              "      <th>Sale_Type</th>\n",
              "      <td>WD</td>\n",
              "      <td>WD</td>\n",
              "      <td>WD</td>\n",
              "      <td>WD</td>\n",
              "      <td>WD</td>\n",
              "    </tr>\n",
              "    <tr>\n",
              "      <th>Street</th>\n",
              "      <td>Pave</td>\n",
              "      <td>Pave</td>\n",
              "      <td>Pave</td>\n",
              "      <td>Pave</td>\n",
              "      <td>Pave</td>\n",
              "    </tr>\n",
              "    <tr>\n",
              "      <th>TotRms_AbvGrd</th>\n",
              "      <td>7</td>\n",
              "      <td>5</td>\n",
              "      <td>6</td>\n",
              "      <td>8</td>\n",
              "      <td>6</td>\n",
              "    </tr>\n",
              "    <tr>\n",
              "      <th>Utilities</th>\n",
              "      <td>AllPub</td>\n",
              "      <td>AllPub</td>\n",
              "      <td>AllPub</td>\n",
              "      <td>AllPub</td>\n",
              "      <td>AllPub</td>\n",
              "    </tr>\n",
              "    <tr>\n",
              "      <th>Year_Built</th>\n",
              "      <td>1960</td>\n",
              "      <td>1961</td>\n",
              "      <td>1958</td>\n",
              "      <td>1968</td>\n",
              "      <td>1997</td>\n",
              "    </tr>\n",
              "    <tr>\n",
              "      <th>Year_Remod/Add</th>\n",
              "      <td>1960</td>\n",
              "      <td>1961</td>\n",
              "      <td>1958</td>\n",
              "      <td>1968</td>\n",
              "      <td>1998</td>\n",
              "    </tr>\n",
              "    <tr>\n",
              "      <th>Yr_Sold</th>\n",
              "      <td>2010</td>\n",
              "      <td>2010</td>\n",
              "      <td>2010</td>\n",
              "      <td>2010</td>\n",
              "      <td>2010</td>\n",
              "    </tr>\n",
              "  </tbody>\n",
              "</table>\n",
              "</div>"
            ],
            "text/plain": [
              "                      0        1        2        3        4\n",
              "1st_Flr_SF         1656      896     1329     2110      928\n",
              "Bedroom_AbvGr         3        2        3        3        3\n",
              "Bldg_Type          1Fam     1Fam     1Fam     1Fam     1Fam\n",
              "Bsmt_Full_Bath        1        0        0        1        0\n",
              "Bsmt_Half_Bath        0        0        0        0        0\n",
              "Central_Air           Y        Y        Y        Y        Y\n",
              "Condition_1        Norm    Feedr     Norm     Norm     Norm\n",
              "Condition_2        Norm     Norm     Norm     Norm     Norm\n",
              "Electrical        SBrkr    SBrkr    SBrkr    SBrkr    SBrkr\n",
              "Exter_Cond           TA       TA       TA       TA       TA\n",
              "Exter_Qual           TA       TA       TA       Gd       TA\n",
              "Exterior_1st    BrkFace  VinylSd  Wd Sdng  BrkFace  VinylSd\n",
              "Exterior_2nd    Plywood  VinylSd  Wd Sdng  BrkFace  VinylSd\n",
              "Foundation       CBlock   CBlock   CBlock   CBlock    PConc\n",
              "Full_Bath             1        1        1        2        2\n",
              "Functional          Typ      Typ      Typ      Typ      Typ\n",
              "Gr_Liv_Area        1656      896     1329     2110     1629\n",
              "Half_Bath             0        0        1        1        1\n",
              "Heating            GasA     GasA     GasA     GasA     GasA\n",
              "Heating_QC           Fa       TA       TA       Ex       Gd\n",
              "House_Style      1Story   1Story   1Story   1Story   2Story\n",
              "Kitchen_AbvGr         1        1        1        1        1\n",
              "Kitchen_Qual         TA       TA       Gd       Ex       TA\n",
              "Land_Contour        Lvl      Lvl      Lvl      Lvl      Lvl\n",
              "Land_Slope          Gtl      Gtl      Gtl      Gtl      Gtl\n",
              "Lot_Area          31770    11622    14267    11160    13830\n",
              "Lot_Config       Corner   Inside   Corner   Corner   Inside\n",
              "Lot_Shape           IR1      Reg      IR1      Reg      IR1\n",
              "MS_SubClass          20       20       20       20       60\n",
              "MS_Zoning            RL       RH       RL       RL       RL\n",
              "Mas_Vnr_Type      Stone     None  BrkFace     None     None\n",
              "Mo_Sold               5        6        6        4        3\n",
              "Neighborhood      NAmes    NAmes    NAmes    NAmes  Gilbert\n",
              "Overall_Cond          5        6        6        5        5\n",
              "Overall_Qual          6        5        6        7        5\n",
              "Paved_Drive           P        Y        Y        Y        Y\n",
              "Roof_Matl       CompShg  CompShg  CompShg  CompShg  CompShg\n",
              "Roof_Style          Hip    Gable      Hip      Hip    Gable\n",
              "SalePrice        215000   105000   172000   244000   189900\n",
              "Sale_Condition   Normal   Normal   Normal   Normal   Normal\n",
              "Sale_Type           WD       WD       WD       WD       WD \n",
              "Street             Pave     Pave     Pave     Pave     Pave\n",
              "TotRms_AbvGrd         7        5        6        8        6\n",
              "Utilities        AllPub   AllPub   AllPub   AllPub   AllPub\n",
              "Year_Built         1960     1961     1958     1968     1997\n",
              "Year_Remod/Add     1960     1961     1958     1968     1998\n",
              "Yr_Sold            2010     2010     2010     2010     2010"
            ]
          },
          "metadata": {
            "tags": []
          },
          "execution_count": 185
        }
      ]
    },
    {
      "cell_type": "code",
      "metadata": {
        "id": "Z46LBBXOiIYd",
        "colab_type": "code",
        "colab": {
          "base_uri": "https://localhost:8080/",
          "height": 890
        },
        "outputId": "0db7c8b3-cd70-4aec-9d3d-8b14ff1d650b"
      },
      "source": [
        "homes.isnull().sum()"
      ],
      "execution_count": 186,
      "outputs": [
        {
          "output_type": "execute_result",
          "data": {
            "text/plain": [
              "1st_Flr_SF        0\n",
              "Bedroom_AbvGr     0\n",
              "Bldg_Type         0\n",
              "Bsmt_Full_Bath    0\n",
              "Bsmt_Half_Bath    0\n",
              "Central_Air       0\n",
              "Condition_1       0\n",
              "Condition_2       0\n",
              "Electrical        0\n",
              "Exter_Cond        0\n",
              "Exter_Qual        0\n",
              "Exterior_1st      0\n",
              "Exterior_2nd      0\n",
              "Foundation        0\n",
              "Full_Bath         0\n",
              "Functional        0\n",
              "Gr_Liv_Area       0\n",
              "Half_Bath         0\n",
              "Heating           0\n",
              "Heating_QC        0\n",
              "House_Style       0\n",
              "Kitchen_AbvGr     0\n",
              "Kitchen_Qual      0\n",
              "Land_Contour      0\n",
              "Land_Slope        0\n",
              "Lot_Area          0\n",
              "Lot_Config        0\n",
              "Lot_Shape         0\n",
              "MS_SubClass       0\n",
              "MS_Zoning         0\n",
              "Mas_Vnr_Type      0\n",
              "Mo_Sold           0\n",
              "Neighborhood      0\n",
              "Overall_Cond      0\n",
              "Overall_Qual      0\n",
              "Paved_Drive       0\n",
              "Roof_Matl         0\n",
              "Roof_Style        0\n",
              "SalePrice         0\n",
              "Sale_Condition    0\n",
              "Sale_Type         0\n",
              "Street            0\n",
              "TotRms_AbvGrd     0\n",
              "Utilities         0\n",
              "Year_Built        0\n",
              "Year_Remod/Add    0\n",
              "Yr_Sold           0\n",
              "dtype: int64"
            ]
          },
          "metadata": {
            "tags": []
          },
          "execution_count": 186
        }
      ]
    },
    {
      "cell_type": "code",
      "metadata": {
        "id": "xWYzJeu4iM8z",
        "colab_type": "code",
        "colab": {
          "base_uri": "https://localhost:8080/",
          "height": 890
        },
        "outputId": "6c33d372-234f-4f91-8123-2ac067db7fc6"
      },
      "source": [
        "homes.dtypes"
      ],
      "execution_count": 187,
      "outputs": [
        {
          "output_type": "execute_result",
          "data": {
            "text/plain": [
              "1st_Flr_SF          int64\n",
              "Bedroom_AbvGr       int64\n",
              "Bldg_Type          object\n",
              "Bsmt_Full_Bath    float64\n",
              "Bsmt_Half_Bath    float64\n",
              "Central_Air        object\n",
              "Condition_1        object\n",
              "Condition_2        object\n",
              "Electrical         object\n",
              "Exter_Cond         object\n",
              "Exter_Qual         object\n",
              "Exterior_1st       object\n",
              "Exterior_2nd       object\n",
              "Foundation         object\n",
              "Full_Bath           int64\n",
              "Functional         object\n",
              "Gr_Liv_Area         int64\n",
              "Half_Bath           int64\n",
              "Heating            object\n",
              "Heating_QC         object\n",
              "House_Style        object\n",
              "Kitchen_AbvGr       int64\n",
              "Kitchen_Qual       object\n",
              "Land_Contour       object\n",
              "Land_Slope         object\n",
              "Lot_Area            int64\n",
              "Lot_Config         object\n",
              "Lot_Shape          object\n",
              "MS_SubClass         int64\n",
              "MS_Zoning          object\n",
              "Mas_Vnr_Type       object\n",
              "Mo_Sold             int64\n",
              "Neighborhood       object\n",
              "Overall_Cond        int64\n",
              "Overall_Qual        int64\n",
              "Paved_Drive        object\n",
              "Roof_Matl          object\n",
              "Roof_Style         object\n",
              "SalePrice           int64\n",
              "Sale_Condition     object\n",
              "Sale_Type          object\n",
              "Street             object\n",
              "TotRms_AbvGrd       int64\n",
              "Utilities          object\n",
              "Year_Built          int64\n",
              "Year_Remod/Add      int64\n",
              "Yr_Sold             int64\n",
              "dtype: object"
            ]
          },
          "metadata": {
            "tags": []
          },
          "execution_count": 187
        }
      ]
    },
    {
      "cell_type": "markdown",
      "metadata": {
        "colab_type": "text",
        "id": "CowG-cgZ5ZrB"
      },
      "source": [
        "## 2.1. Begin with baselines\n",
        "\n",
        "What is the Mean Absolute Error and R^2 score for a mean baseline? (You can get these estimated scores using all your data, before splitting it.)"
      ]
    },
    {
      "cell_type": "code",
      "metadata": {
        "colab_type": "code",
        "id": "TbahVr-j5ZLs",
        "colab": {
          "base_uri": "https://localhost:8080/",
          "height": 35
        },
        "outputId": "962cd6e7-5ecd-49b8-92e7-4c93510a8b01"
      },
      "source": [
        "#mean absolute error\n",
        "\n",
        "from sklearn.metrics import mean_absolute_error\n",
        "\n",
        "target = homes['SalePrice']\n",
        "\n",
        "guess = target.mean()\n",
        "\n",
        "y_pred = [guess] * len(target)\n",
        "mae = mean_absolute_error(target, y_pred)\n",
        "print(f'Mean absolute error: {mae:.2f} ')"
      ],
      "execution_count": 233,
      "outputs": [
        {
          "output_type": "stream",
          "text": [
            "Mean absolute error: 58149.93 \n"
          ],
          "name": "stdout"
        }
      ]
    },
    {
      "cell_type": "code",
      "metadata": {
        "id": "xxpZ_c7QjGwF",
        "colab_type": "code",
        "colab": {
          "base_uri": "https://localhost:8080/",
          "height": 35
        },
        "outputId": "4733420f-96fa-4dba-c065-bd57c514cdcf"
      },
      "source": [
        "#mean squared error\n",
        "\n",
        "from sklearn.metrics import mean_squared_error\n",
        "\n",
        "MSE = mean_squared_error(target, y_pred)\n",
        "print(f'Mean squared Error: {MSE:.2f} ')"
      ],
      "execution_count": 234,
      "outputs": [
        {
          "output_type": "stream",
          "text": [
            "Mean squared Error: 6366297661.45 \n"
          ],
          "name": "stdout"
        }
      ]
    },
    {
      "cell_type": "code",
      "metadata": {
        "id": "CmNyy0UojK6f",
        "colab_type": "code",
        "colab": {
          "base_uri": "https://localhost:8080/",
          "height": 35
        },
        "outputId": "4c15c360-c6fd-45a5-e0a7-53dec2b5cb9a"
      },
      "source": [
        "#root mean squared error\n",
        "from math import sqrt\n",
        "\n",
        "RMSE = sqrt(mean_squared_error(target, y_pred))\n",
        "print(f'Root Mean squared Error: {RMSE:.2f} ')"
      ],
      "execution_count": 235,
      "outputs": [
        {
          "output_type": "stream",
          "text": [
            "Root Mean squared Error: 79789.08 \n"
          ],
          "name": "stdout"
        }
      ]
    },
    {
      "cell_type": "markdown",
      "metadata": {
        "colab_type": "text",
        "id": "yqeiq1wvyrTq"
      },
      "source": [
        "## 2.2. Do train/validate/test split\n",
        "\n",
        "Train on houses sold in the years 2006 - 2008. (1,920 rows)\n",
        "\n",
        "Validate on house sold in 2009. (644 rows)\n",
        "\n",
        "Test on houses sold in 2010. (340 rows)"
      ]
    },
    {
      "cell_type": "code",
      "metadata": {
        "colab_type": "code",
        "id": "WKFjWLI3w0P_",
        "colab": {
          "base_uri": "https://localhost:8080/",
          "height": 35
        },
        "outputId": "df50f6c2-8f77-4a24-d0d8-0874ba56103f"
      },
      "source": [
        "train = homes[homes['Yr_Sold'] < 2009]\n",
        "train.shape"
      ],
      "execution_count": 236,
      "outputs": [
        {
          "output_type": "execute_result",
          "data": {
            "text/plain": [
              "(1920, 47)"
            ]
          },
          "metadata": {
            "tags": []
          },
          "execution_count": 236
        }
      ]
    },
    {
      "cell_type": "code",
      "metadata": {
        "id": "ttOjHz7PjSrT",
        "colab_type": "code",
        "colab": {
          "base_uri": "https://localhost:8080/",
          "height": 35
        },
        "outputId": "1274c5d5-7798-4a8f-a335-189ad1a10597"
      },
      "source": [
        "val = homes[homes['Yr_Sold'] == 2009]\n",
        "val.shape"
      ],
      "execution_count": 237,
      "outputs": [
        {
          "output_type": "execute_result",
          "data": {
            "text/plain": [
              "(644, 47)"
            ]
          },
          "metadata": {
            "tags": []
          },
          "execution_count": 237
        }
      ]
    },
    {
      "cell_type": "code",
      "metadata": {
        "id": "-3q8PkP8jUqm",
        "colab_type": "code",
        "colab": {
          "base_uri": "https://localhost:8080/",
          "height": 35
        },
        "outputId": "b0a598aa-29a7-44b6-a24e-e71c0fb425d9"
      },
      "source": [
        "test = homes[homes['Yr_Sold'] == 2010]\n",
        "test.shape"
      ],
      "execution_count": 238,
      "outputs": [
        {
          "output_type": "execute_result",
          "data": {
            "text/plain": [
              "(340, 47)"
            ]
          },
          "metadata": {
            "tags": []
          },
          "execution_count": 238
        }
      ]
    },
    {
      "cell_type": "markdown",
      "metadata": {
        "colab_type": "text",
        "id": "hk1bYDJy6txq"
      },
      "source": [
        "## 2.3. Arrange data into X features matrix and y target vector\n",
        "\n",
        "Select at least one numeric feature and at least one categorical feature.\n",
        "\n",
        "Otherwise, you may choose whichever features and however many you want."
      ]
    },
    {
      "cell_type": "code",
      "metadata": {
        "colab_type": "code",
        "id": "JQf9iwzf_uWh",
        "colab": {}
      },
      "source": [
        "features = ['Bldg_Type', \"Full_Bath\"]\n",
        "\n",
        "target = 'SalePrice'\n",
        "\n",
        "X_train = train[features]\n",
        "X_val = val[features]\n",
        "X_test = test[features]\n"
      ],
      "execution_count": 0,
      "outputs": []
    },
    {
      "cell_type": "code",
      "metadata": {
        "id": "yW9sL6epni1o",
        "colab_type": "code",
        "colab": {}
      },
      "source": [
        "y_train = train[target]\n",
        "y_test = test[target]\n",
        "y_val= val[target]"
      ],
      "execution_count": 0,
      "outputs": []
    },
    {
      "cell_type": "markdown",
      "metadata": {
        "colab_type": "text",
        "id": "zDT-gSl_-Gwh"
      },
      "source": [
        "## 2.4. Do one-hot encoding\n",
        "\n",
        "Encode your categorical feature(s)."
      ]
    },
    {
      "cell_type": "code",
      "metadata": {
        "colab_type": "code",
        "id": "iqRywy6M7Jcr",
        "colab": {
          "base_uri": "https://localhost:8080/",
          "height": 198
        },
        "outputId": "0f7252c2-760d-4618-8189-a50fbe32989a"
      },
      "source": [
        "import category_encoders as ce\n",
        "\n",
        "encoder = ce.OneHotEncoder(use_cat_names=True)\n",
        "X_train_encoded = encoder.fit_transform(X_train)\n",
        "X_val_encoded = encoder.transform(X_val)\n",
        "\n",
        "X_train_encoded.head()"
      ],
      "execution_count": 241,
      "outputs": [
        {
          "output_type": "execute_result",
          "data": {
            "text/html": [
              "<div>\n",
              "<style scoped>\n",
              "    .dataframe tbody tr th:only-of-type {\n",
              "        vertical-align: middle;\n",
              "    }\n",
              "\n",
              "    .dataframe tbody tr th {\n",
              "        vertical-align: top;\n",
              "    }\n",
              "\n",
              "    .dataframe thead th {\n",
              "        text-align: right;\n",
              "    }\n",
              "</style>\n",
              "<table border=\"1\" class=\"dataframe\">\n",
              "  <thead>\n",
              "    <tr style=\"text-align: right;\">\n",
              "      <th></th>\n",
              "      <th>Bldg_Type_1Fam</th>\n",
              "      <th>Bldg_Type_TwnhsE</th>\n",
              "      <th>Bldg_Type_Duplex</th>\n",
              "      <th>Bldg_Type_Twnhs</th>\n",
              "      <th>Bldg_Type_2fmCon</th>\n",
              "      <th>Full_Bath</th>\n",
              "    </tr>\n",
              "  </thead>\n",
              "  <tbody>\n",
              "    <tr>\n",
              "      <th>984</th>\n",
              "      <td>1</td>\n",
              "      <td>0</td>\n",
              "      <td>0</td>\n",
              "      <td>0</td>\n",
              "      <td>0</td>\n",
              "      <td>1</td>\n",
              "    </tr>\n",
              "    <tr>\n",
              "      <th>985</th>\n",
              "      <td>1</td>\n",
              "      <td>0</td>\n",
              "      <td>0</td>\n",
              "      <td>0</td>\n",
              "      <td>0</td>\n",
              "      <td>2</td>\n",
              "    </tr>\n",
              "    <tr>\n",
              "      <th>986</th>\n",
              "      <td>1</td>\n",
              "      <td>0</td>\n",
              "      <td>0</td>\n",
              "      <td>0</td>\n",
              "      <td>0</td>\n",
              "      <td>2</td>\n",
              "    </tr>\n",
              "    <tr>\n",
              "      <th>987</th>\n",
              "      <td>1</td>\n",
              "      <td>0</td>\n",
              "      <td>0</td>\n",
              "      <td>0</td>\n",
              "      <td>0</td>\n",
              "      <td>2</td>\n",
              "    </tr>\n",
              "    <tr>\n",
              "      <th>988</th>\n",
              "      <td>1</td>\n",
              "      <td>0</td>\n",
              "      <td>0</td>\n",
              "      <td>0</td>\n",
              "      <td>0</td>\n",
              "      <td>2</td>\n",
              "    </tr>\n",
              "  </tbody>\n",
              "</table>\n",
              "</div>"
            ],
            "text/plain": [
              "     Bldg_Type_1Fam  Bldg_Type_TwnhsE  ...  Bldg_Type_2fmCon  Full_Bath\n",
              "984               1                 0  ...                 0          1\n",
              "985               1                 0  ...                 0          2\n",
              "986               1                 0  ...                 0          2\n",
              "987               1                 0  ...                 0          2\n",
              "988               1                 0  ...                 0          2\n",
              "\n",
              "[5 rows x 6 columns]"
            ]
          },
          "metadata": {
            "tags": []
          },
          "execution_count": 241
        }
      ]
    },
    {
      "cell_type": "code",
      "metadata": {
        "id": "IQgNOYrb668o",
        "colab_type": "code",
        "colab": {
          "base_uri": "https://localhost:8080/",
          "height": 407
        },
        "outputId": "c38ca889-3a54-483f-c0bb-8f1259da1512"
      },
      "source": [
        "X_val_encoded"
      ],
      "execution_count": 242,
      "outputs": [
        {
          "output_type": "execute_result",
          "data": {
            "text/html": [
              "<div>\n",
              "<style scoped>\n",
              "    .dataframe tbody tr th:only-of-type {\n",
              "        vertical-align: middle;\n",
              "    }\n",
              "\n",
              "    .dataframe tbody tr th {\n",
              "        vertical-align: top;\n",
              "    }\n",
              "\n",
              "    .dataframe thead th {\n",
              "        text-align: right;\n",
              "    }\n",
              "</style>\n",
              "<table border=\"1\" class=\"dataframe\">\n",
              "  <thead>\n",
              "    <tr style=\"text-align: right;\">\n",
              "      <th></th>\n",
              "      <th>Bldg_Type_1Fam</th>\n",
              "      <th>Bldg_Type_TwnhsE</th>\n",
              "      <th>Bldg_Type_Duplex</th>\n",
              "      <th>Bldg_Type_Twnhs</th>\n",
              "      <th>Bldg_Type_2fmCon</th>\n",
              "      <th>Full_Bath</th>\n",
              "    </tr>\n",
              "  </thead>\n",
              "  <tbody>\n",
              "    <tr>\n",
              "      <th>340</th>\n",
              "      <td>1</td>\n",
              "      <td>0</td>\n",
              "      <td>0</td>\n",
              "      <td>0</td>\n",
              "      <td>0</td>\n",
              "      <td>1</td>\n",
              "    </tr>\n",
              "    <tr>\n",
              "      <th>341</th>\n",
              "      <td>1</td>\n",
              "      <td>0</td>\n",
              "      <td>0</td>\n",
              "      <td>0</td>\n",
              "      <td>0</td>\n",
              "      <td>2</td>\n",
              "    </tr>\n",
              "    <tr>\n",
              "      <th>342</th>\n",
              "      <td>1</td>\n",
              "      <td>0</td>\n",
              "      <td>0</td>\n",
              "      <td>0</td>\n",
              "      <td>0</td>\n",
              "      <td>2</td>\n",
              "    </tr>\n",
              "    <tr>\n",
              "      <th>343</th>\n",
              "      <td>1</td>\n",
              "      <td>0</td>\n",
              "      <td>0</td>\n",
              "      <td>0</td>\n",
              "      <td>0</td>\n",
              "      <td>2</td>\n",
              "    </tr>\n",
              "    <tr>\n",
              "      <th>344</th>\n",
              "      <td>1</td>\n",
              "      <td>0</td>\n",
              "      <td>0</td>\n",
              "      <td>0</td>\n",
              "      <td>0</td>\n",
              "      <td>2</td>\n",
              "    </tr>\n",
              "    <tr>\n",
              "      <th>...</th>\n",
              "      <td>...</td>\n",
              "      <td>...</td>\n",
              "      <td>...</td>\n",
              "      <td>...</td>\n",
              "      <td>...</td>\n",
              "      <td>...</td>\n",
              "    </tr>\n",
              "    <tr>\n",
              "      <th>979</th>\n",
              "      <td>1</td>\n",
              "      <td>0</td>\n",
              "      <td>0</td>\n",
              "      <td>0</td>\n",
              "      <td>0</td>\n",
              "      <td>1</td>\n",
              "    </tr>\n",
              "    <tr>\n",
              "      <th>980</th>\n",
              "      <td>1</td>\n",
              "      <td>0</td>\n",
              "      <td>0</td>\n",
              "      <td>0</td>\n",
              "      <td>0</td>\n",
              "      <td>1</td>\n",
              "    </tr>\n",
              "    <tr>\n",
              "      <th>981</th>\n",
              "      <td>1</td>\n",
              "      <td>0</td>\n",
              "      <td>0</td>\n",
              "      <td>0</td>\n",
              "      <td>0</td>\n",
              "      <td>1</td>\n",
              "    </tr>\n",
              "    <tr>\n",
              "      <th>982</th>\n",
              "      <td>1</td>\n",
              "      <td>0</td>\n",
              "      <td>0</td>\n",
              "      <td>0</td>\n",
              "      <td>0</td>\n",
              "      <td>2</td>\n",
              "    </tr>\n",
              "    <tr>\n",
              "      <th>983</th>\n",
              "      <td>1</td>\n",
              "      <td>0</td>\n",
              "      <td>0</td>\n",
              "      <td>0</td>\n",
              "      <td>0</td>\n",
              "      <td>1</td>\n",
              "    </tr>\n",
              "  </tbody>\n",
              "</table>\n",
              "<p>644 rows × 6 columns</p>\n",
              "</div>"
            ],
            "text/plain": [
              "     Bldg_Type_1Fam  Bldg_Type_TwnhsE  ...  Bldg_Type_2fmCon  Full_Bath\n",
              "340               1                 0  ...                 0          1\n",
              "341               1                 0  ...                 0          2\n",
              "342               1                 0  ...                 0          2\n",
              "343               1                 0  ...                 0          2\n",
              "344               1                 0  ...                 0          2\n",
              "..              ...               ...  ...               ...        ...\n",
              "979               1                 0  ...                 0          1\n",
              "980               1                 0  ...                 0          1\n",
              "981               1                 0  ...                 0          1\n",
              "982               1                 0  ...                 0          2\n",
              "983               1                 0  ...                 0          1\n",
              "\n",
              "[644 rows x 6 columns]"
            ]
          },
          "metadata": {
            "tags": []
          },
          "execution_count": 242
        }
      ]
    },
    {
      "cell_type": "markdown",
      "metadata": {
        "colab_type": "text",
        "id": "2ZceruUx-Vs-"
      },
      "source": [
        "## 2.5. Use scikit-learn to fit a linear regression or ridge regression model\n",
        "Fit your model."
      ]
    },
    {
      "cell_type": "code",
      "metadata": {
        "colab_type": "code",
        "id": "Kvy4Z0xv7eJF",
        "colab": {}
      },
      "source": [
        "from sklearn.linear_model import LinearRegression\n",
        "\n",
        "#Instantiate class\n",
        "linear_reg = LinearRegression()"
      ],
      "execution_count": 0,
      "outputs": []
    },
    {
      "cell_type": "code",
      "metadata": {
        "id": "tfO0Bsdknx1-",
        "colab_type": "code",
        "colab": {}
      },
      "source": [
        "scaler2 = StandardScaler()\n",
        "X_train_scaled2 = scaler.fit_transform(X_train_encoded)\n",
        "X_val_scaled2 = scaler.fit_transform(X_val_encoded)"
      ],
      "execution_count": 0,
      "outputs": []
    },
    {
      "cell_type": "code",
      "metadata": {
        "id": "TUnqDklin242",
        "colab_type": "code",
        "colab": {
          "base_uri": "https://localhost:8080/",
          "height": 35
        },
        "outputId": "861f8dec-04f7-4bb1-ec33-db380b1821c3"
      },
      "source": [
        "model = LinearRegression(fit_intercept=True)\n",
        "model.fit(X_train_scaled2, y_train)"
      ],
      "execution_count": 245,
      "outputs": [
        {
          "output_type": "execute_result",
          "data": {
            "text/plain": [
              "LinearRegression(copy_X=True, fit_intercept=True, n_jobs=None, normalize=False)"
            ]
          },
          "metadata": {
            "tags": []
          },
          "execution_count": 245
        }
      ]
    },
    {
      "cell_type": "code",
      "metadata": {
        "id": "5r-h-CwGn5Y3",
        "colab_type": "code",
        "colab": {
          "base_uri": "https://localhost:8080/",
          "height": 1000
        },
        "outputId": "e837a396-77b8-434b-fb95-d70fc6fb3804"
      },
      "source": [
        "y_predict = model.predict(X_val_scaled2)\n",
        "y_predict"
      ],
      "execution_count": 246,
      "outputs": [
        {
          "output_type": "execute_result",
          "data": {
            "text/plain": [
              "array([ 3.58207493e+14,  3.58207494e+14,  3.58207494e+14,  3.58207494e+14,\n",
              "        3.58207494e+14,  3.58207494e+14,  3.58207494e+14,  3.58207494e+14,\n",
              "        1.88964423e+16,  1.88964423e+16,  3.58207494e+14,  1.88964423e+16,\n",
              "        3.58207494e+14,  3.58207494e+14,  3.58207494e+14,  3.58207494e+14,\n",
              "        3.58207494e+14,  3.58207494e+14,  3.58207494e+14,  3.58207494e+14,\n",
              "        3.58207494e+14,  3.58207494e+14,  3.58207494e+14,  3.58207494e+14,\n",
              "        1.88964423e+16,  3.58207494e+14,  3.58207494e+14,  3.58207494e+14,\n",
              "        3.58207494e+14,  3.58207494e+14,  3.58207494e+14,  3.58207494e+14,\n",
              "        3.58207494e+14,  3.58207494e+14,  3.58207494e+14,  3.58207494e+14,\n",
              "        3.58207494e+14,  3.58207494e+14,  3.58207494e+14,  3.58207494e+14,\n",
              "        3.58207494e+14,  3.58207494e+14,  3.58207494e+14,  3.58207494e+14,\n",
              "        3.58207494e+14,  3.58207494e+14,  3.58207494e+14,  3.58207494e+14,\n",
              "        3.58207494e+14,  3.58207494e+14,  3.58207494e+14, -7.20699702e+16,\n",
              "        3.58207493e+14,  3.58207493e+14,  3.58207493e+14,  3.58207493e+14,\n",
              "        3.58207493e+14,  3.58207493e+14,  3.58207493e+14,  3.58207493e+14,\n",
              "        3.58207493e+14, -3.58478896e+15,  1.88964423e+16, -3.58478896e+15,\n",
              "       -3.58478896e+15, -3.58478896e+15, -3.58478896e+15,  1.88964423e+16,\n",
              "        1.88964423e+16, -3.58478896e+15, -3.58478896e+15,  1.88964423e+16,\n",
              "       -3.58478896e+15,  1.88964423e+16, -3.58478896e+15,  1.88964423e+16,\n",
              "        1.88964423e+16,  3.58207493e+14,  3.58207493e+14,  3.58207494e+14,\n",
              "        3.58207494e+14,  3.58207494e+14,  3.58207494e+14,  3.58207494e+14,\n",
              "        3.58207494e+14,  3.58207494e+14,  3.58207494e+14,  3.58207494e+14,\n",
              "        3.58207494e+14,  3.58207494e+14,  3.58207494e+14,  3.58207494e+14,\n",
              "        3.58207494e+14,  3.58207494e+14,  3.58207494e+14,  3.58207494e+14,\n",
              "        3.58207494e+14,  3.58207494e+14,  3.58207494e+14,  3.58207494e+14,\n",
              "        3.58207494e+14,  3.58207494e+14,  3.58207494e+14,  3.58207494e+14,\n",
              "        3.58207494e+14,  3.58207494e+14,  3.58207494e+14,  3.58207494e+14,\n",
              "        3.58207494e+14,  3.58207494e+14,  1.88964423e+16, -3.58478896e+15,\n",
              "       -3.58478896e+15,  1.88964423e+16, -3.58478896e+15,  3.58207494e+14,\n",
              "        3.58207494e+14,  1.88964423e+16,  1.88964423e+16,  3.58207494e+14,\n",
              "        1.88964423e+16,  1.88964423e+16, -3.58478896e+15,  3.58207494e+14,\n",
              "        3.58207494e+14,  3.58207494e+14,  3.58207494e+14,  1.88964423e+16,\n",
              "        1.88964423e+16,  1.88964423e+16,  1.88964423e+16,  1.88964423e+16,\n",
              "        1.88964423e+16,  3.58207494e+14,  3.58207494e+14,  3.58207494e+14,\n",
              "        3.58207494e+14,  3.58207494e+14,  3.58207494e+14,  3.58207494e+14,\n",
              "        3.58207494e+14, -3.58478896e+15,  3.58207494e+14,  3.58207494e+14,\n",
              "        3.58207494e+14,  3.58207494e+14,  3.58207494e+14,  3.58207494e+14,\n",
              "        3.58207494e+14,  3.58207494e+14,  3.58207494e+14,  3.58207494e+14,\n",
              "        3.58207494e+14,  3.58207494e+14,  3.58207494e+14,  3.58207494e+14,\n",
              "        3.58207494e+14,  3.58207494e+14,  3.58207494e+14,  3.58207494e+14,\n",
              "        3.58207494e+14,  3.58207494e+14,  3.58207494e+14,  3.58207494e+14,\n",
              "        3.58207494e+14,  3.58207494e+14,  3.58207494e+14,  3.58207494e+14,\n",
              "        3.58207494e+14,  3.58207494e+14,  3.58207494e+14,  3.58207494e+14,\n",
              "        3.58207494e+14,  3.58207494e+14,  3.58207494e+14,  3.58207494e+14,\n",
              "        3.58207494e+14,  3.58207494e+14,  3.58207494e+14,  3.58207494e+14,\n",
              "        3.58207494e+14,  3.58207494e+14,  3.58207494e+14,  3.58207494e+14,\n",
              "        3.58207494e+14,  3.58207494e+14,  3.58207494e+14,  3.58207494e+14,\n",
              "        3.58207494e+14,  3.58207494e+14,  3.58207493e+14,  3.58207493e+14,\n",
              "        3.58207493e+14,  3.58207494e+14,  3.58207494e+14,  3.58207493e+14,\n",
              "        3.58207493e+14,  3.58207494e+14,  3.58207494e+14,  3.58207494e+14,\n",
              "        3.58207494e+14,  3.58207494e+14,  3.58207494e+14,  1.88964423e+16,\n",
              "        1.88964423e+16,  3.58207494e+14,  3.58207494e+14, -7.20699702e+16,\n",
              "        3.58207493e+14,  3.58207493e+14,  3.58207493e+14,  3.58207493e+14,\n",
              "        3.58207493e+14,  3.58207493e+14,  3.58207494e+14,  3.58207493e+14,\n",
              "        3.58207493e+14,  3.58207493e+14,  3.58207493e+14,  3.58207494e+14,\n",
              "        3.58207494e+14, -3.58478896e+15,  1.88964423e+16,  1.88964423e+16,\n",
              "        1.88964423e+16,  1.88964423e+16,  1.88964423e+16,  1.88964423e+16,\n",
              "        1.88964423e+16, -3.58478896e+15,  3.58207494e+14,  1.88964423e+16,\n",
              "        3.58207493e+14,  3.58207494e+14,  3.58207494e+14,  3.58207493e+14,\n",
              "        3.58207494e+14,  3.58207494e+14,  3.58207494e+14,  3.58207494e+14,\n",
              "        3.58207493e+14,  3.58207494e+14,  3.58207493e+14,  3.58207494e+14,\n",
              "        3.58207493e+14,  3.58207493e+14,  3.58207494e+14,  3.58207494e+14,\n",
              "        3.58207494e+14,  3.58207493e+14,  3.58207493e+14,  3.58207493e+14,\n",
              "        3.58207494e+14,  3.58207494e+14,  3.58207494e+14,  3.58207493e+14,\n",
              "        3.58207493e+14,  3.58207493e+14,  3.58207493e+14,  3.58207494e+14,\n",
              "       -7.20699702e+16,  3.58207493e+14,  3.58207493e+14,  3.58207493e+14,\n",
              "        3.58207493e+14,  3.58207494e+14,  3.58207493e+14,  3.58207493e+14,\n",
              "        3.58207493e+14,  3.58207493e+14,  3.58207493e+14,  3.58207493e+14,\n",
              "        3.58207493e+14,  3.58207493e+14,  3.58207493e+14,  3.58207493e+14,\n",
              "        3.58207493e+14,  3.58207493e+14, -7.20699702e+16,  3.58207494e+14,\n",
              "        3.58207493e+14,  3.58207494e+14,  3.58207494e+14,  3.58207494e+14,\n",
              "        3.58207493e+14,  3.58207494e+14,  3.58207493e+14,  3.58207493e+14,\n",
              "        3.58207493e+14,  3.58207494e+14,  3.58207494e+14,  3.58207493e+14,\n",
              "        3.58207493e+14,  3.58207493e+14,  3.58207493e+14,  3.58207493e+14,\n",
              "        3.58207493e+14, -7.20699702e+16,  3.58207493e+14,  3.58207493e+14,\n",
              "        3.58207493e+14,  3.58207493e+14,  3.58207493e+14,  3.58207493e+14,\n",
              "        3.58207493e+14,  3.58207493e+14,  1.73112536e+17,  3.58207493e+14,\n",
              "        3.58207493e+14,  3.58207493e+14,  3.58207493e+14,  3.58207494e+14,\n",
              "        3.58207494e+14,  3.58207493e+14,  3.58207493e+14,  3.58207493e+14,\n",
              "        3.58207494e+14,  3.58207494e+14,  3.58207493e+14,  3.58207493e+14,\n",
              "        3.58207493e+14,  3.58207493e+14, -7.20699702e+16,  3.58207493e+14,\n",
              "        3.58207493e+14, -7.20699702e+16,  3.58207493e+14,  3.58207493e+14,\n",
              "        3.58207493e+14,  3.58207494e+14,  3.58207493e+14,  3.58207493e+14,\n",
              "       -7.20699702e+16,  3.58207493e+14, -7.20699702e+16,  3.58207493e+14,\n",
              "        3.58207493e+14,  3.58207493e+14,  3.58207493e+14,  3.58207493e+14,\n",
              "        3.58207493e+14,  3.58207494e+14,  3.58207493e+14,  3.58207493e+14,\n",
              "       -7.20699702e+16,  3.58207493e+14,  3.58207493e+14,  3.58207493e+14,\n",
              "        3.58207493e+14,  3.58207493e+14, -7.20699702e+16,  3.58207493e+14,\n",
              "        3.58207493e+14,  3.58207494e+14,  3.58207493e+14,  3.58207494e+14,\n",
              "        1.73112536e+17, -7.20699702e+16,  3.58207493e+14,  3.58207493e+14,\n",
              "        1.73112536e+17,  3.58207493e+14,  1.73112536e+17,  3.58207493e+14,\n",
              "        3.58207493e+14,  3.58207493e+14,  3.58207493e+14,  3.58207493e+14,\n",
              "        1.73112536e+17,  3.58207494e+14,  3.58207493e+14,  3.58207494e+14,\n",
              "        3.58207493e+14,  3.58207494e+14,  3.58207493e+14,  3.58207493e+14,\n",
              "        3.58207493e+14,  3.58207493e+14,  3.58207493e+14,  3.58207493e+14,\n",
              "        3.58207493e+14,  3.58207493e+14,  3.58207493e+14,  3.58207493e+14,\n",
              "        3.58207493e+14,  3.58207493e+14,  3.58207494e+14,  3.58207494e+14,\n",
              "        3.58207493e+14,  3.58207493e+14,  3.58207493e+14,  3.58207493e+14,\n",
              "        3.58207493e+14,  3.58207493e+14,  3.58207493e+14,  3.58207493e+14,\n",
              "        3.58207493e+14,  3.58207493e+14,  3.58207493e+14,  3.58207493e+14,\n",
              "        3.58207493e+14,  3.58207494e+14,  3.58207493e+14,  3.58207494e+14,\n",
              "        3.58207493e+14,  3.58207494e+14,  3.58207493e+14,  3.58207494e+14,\n",
              "        3.58207493e+14, -7.20699702e+16,  3.58207494e+14,  3.58207493e+14,\n",
              "        3.58207493e+14,  1.73112536e+17,  3.58207493e+14,  3.58207493e+14,\n",
              "        1.73112536e+17,  3.58207493e+14, -7.20699702e+16, -7.20699702e+16,\n",
              "       -7.20699702e+16,  3.58207493e+14,  3.58207494e+14,  3.58207494e+14,\n",
              "        3.58207494e+14,  3.58207493e+14,  3.58207494e+14,  3.58207493e+14,\n",
              "        3.58207493e+14,  3.58207493e+14,  3.58207493e+14,  3.58207493e+14,\n",
              "        3.58207493e+14,  3.58207494e+14,  3.58207493e+14,  3.58207493e+14,\n",
              "        3.58207493e+14,  3.58207493e+14,  3.58207493e+14,  3.58207493e+14,\n",
              "        3.58207493e+14,  3.58207493e+14,  3.58207494e+14,  3.58207493e+14,\n",
              "        3.58207493e+14,  3.58207493e+14,  3.58207493e+14,  3.58207493e+14,\n",
              "        3.58207493e+14,  3.58207493e+14,  3.58207493e+14,  1.88964423e+16,\n",
              "        3.58207493e+14,  3.58207493e+14,  3.58207493e+14,  3.58207493e+14,\n",
              "        3.58207493e+14,  3.58207493e+14,  3.58207494e+14,  3.58207494e+14,\n",
              "        3.58207494e+14,  3.58207494e+14,  3.58207493e+14, -7.20699702e+16,\n",
              "       -7.20699702e+16, -7.20699702e+16, -7.20699702e+16, -7.20699702e+16,\n",
              "       -7.20699702e+16, -7.20699702e+16, -7.20699702e+16, -7.20699702e+16,\n",
              "       -7.20699702e+16, -7.20699702e+16,  3.58207493e+14,  3.58207494e+14,\n",
              "        3.58207494e+14,  3.58207494e+14,  3.58207494e+14,  3.58207494e+14,\n",
              "        3.58207494e+14,  3.58207494e+14,  3.58207494e+14,  3.58207494e+14,\n",
              "        3.58207494e+14,  3.58207494e+14,  3.58207494e+14,  3.58207494e+14,\n",
              "        3.58207494e+14,  3.58207494e+14,  3.58207494e+14,  3.58207493e+14,\n",
              "        3.58207493e+14,  3.58207494e+14,  3.58207494e+14,  3.58207494e+14,\n",
              "        3.58207493e+14,  3.58207493e+14,  3.58207494e+14,  3.58207494e+14,\n",
              "        3.58207494e+14,  3.58207494e+14,  3.58207494e+14,  3.58207494e+14,\n",
              "        3.58207494e+14,  3.58207494e+14,  3.58207494e+14,  3.58207494e+14,\n",
              "        3.58207494e+14,  3.58207493e+14,  3.58207493e+14,  3.58207494e+14,\n",
              "        3.58207493e+14,  3.58207493e+14,  3.58207493e+14,  3.58207493e+14,\n",
              "        3.58207493e+14,  3.58207493e+14,  3.58207494e+14,  3.58207494e+14,\n",
              "        3.58207494e+14,  3.58207494e+14,  3.58207494e+14,  3.58207494e+14,\n",
              "        3.58207494e+14,  3.58207494e+14,  3.58207494e+14,  3.58207494e+14,\n",
              "        3.58207494e+14,  3.58207494e+14,  3.58207494e+14,  3.58207494e+14,\n",
              "        1.88964423e+16,  1.88964423e+16,  3.58207494e+14,  3.58207494e+14,\n",
              "        3.58207494e+14,  3.58207494e+14,  3.58207494e+14,  3.58207494e+14,\n",
              "        3.58207493e+14,  3.58207493e+14,  3.58207494e+14,  3.58207493e+14,\n",
              "        3.58207493e+14,  3.58207493e+14,  3.58207494e+14,  1.88964423e+16,\n",
              "        3.58207493e+14,  3.58207493e+14,  3.58207493e+14,  3.58207494e+14,\n",
              "        3.58207493e+14,  3.58207493e+14, -7.20699702e+16,  3.58207493e+14,\n",
              "        3.58207493e+14,  3.58207493e+14,  3.58207493e+14,  3.58207494e+14,\n",
              "        3.58207493e+14,  3.58207493e+14,  3.58207493e+14,  3.58207494e+14,\n",
              "        3.58207494e+14,  3.58207493e+14,  3.58207494e+14,  3.58207493e+14,\n",
              "        3.58207494e+14,  3.58207493e+14,  3.58207493e+14,  3.58207494e+14,\n",
              "        3.58207493e+14,  3.58207493e+14,  3.58207493e+14,  3.58207493e+14,\n",
              "        3.58207493e+14,  3.58207493e+14,  3.58207493e+14,  3.58207493e+14,\n",
              "       -7.20699702e+16,  3.58207493e+14,  3.58207493e+14,  3.58207494e+14,\n",
              "        3.58207494e+14,  3.58207493e+14,  3.58207493e+14, -3.58478896e+15,\n",
              "        1.88964423e+16, -3.58478896e+15,  1.88964423e+16,  3.58207494e+14,\n",
              "        3.58207494e+14,  3.58207494e+14,  3.58207493e+14,  3.58207494e+14,\n",
              "        3.58207493e+14,  3.58207493e+14,  3.58207493e+14,  1.88964423e+16,\n",
              "        3.58207493e+14,  3.58207494e+14,  3.58207493e+14,  3.58207494e+14,\n",
              "        3.58207494e+14,  3.58207493e+14,  3.58207493e+14, -7.20699702e+16,\n",
              "        3.58207494e+14,  3.58207494e+14,  3.58207493e+14,  3.58207494e+14,\n",
              "        3.58207494e+14,  3.58207494e+14,  3.58207494e+14,  3.58207494e+14,\n",
              "        3.58207494e+14,  3.58207494e+14,  3.58207494e+14,  3.58207494e+14,\n",
              "        3.58207494e+14,  3.58207494e+14,  3.58207494e+14,  3.58207494e+14,\n",
              "        3.58207493e+14,  3.58207493e+14,  1.88964423e+16,  1.88964423e+16,\n",
              "       -3.58478896e+15,  3.58207493e+14, -3.58478896e+15,  3.58207494e+14,\n",
              "        1.88964423e+16, -3.58478896e+15,  1.88964423e+16,  3.58207493e+14,\n",
              "        3.58207493e+14,  3.58207493e+14,  3.58207493e+14,  3.58207493e+14,\n",
              "        3.58207493e+14,  3.58207493e+14,  3.58207494e+14,  3.58207493e+14])"
            ]
          },
          "metadata": {
            "tags": []
          },
          "execution_count": 246
        }
      ]
    },
    {
      "cell_type": "markdown",
      "metadata": {
        "colab_type": "text",
        "id": "E9reASgw-i8T"
      },
      "source": [
        "## 2.6. Report validation MAE and $R^2$\n",
        "\n",
        "What is your model's Mean Absolute Error and $R^2$ score on the validation set? (You are not graded on how high or low your validation scores are.)"
      ]
    },
    {
      "cell_type": "code",
      "metadata": {
        "colab_type": "code",
        "id": "q8GdnL4e7hyK",
        "colab": {
          "base_uri": "https://localhost:8080/",
          "height": 35
        },
        "outputId": "d4b92c2b-4cdf-41b5-913a-aaa8dfbafd32"
      },
      "source": [
        "mae2 = mean_absolute_error(y_val, y_predict)\n",
        "print(f'Mean absolute error: {mae2:.2f} ')"
      ],
      "execution_count": 248,
      "outputs": [
        {
          "output_type": "stream",
          "text": [
            "Mean absolute error: 6948384079763596.00 \n"
          ],
          "name": "stdout"
        }
      ]
    },
    {
      "cell_type": "code",
      "metadata": {
        "id": "7eqGeCKjoIW1",
        "colab_type": "code",
        "colab": {
          "base_uri": "https://localhost:8080/",
          "height": 35
        },
        "outputId": "d2092384-f1ad-47d8-965d-2bee397f2683"
      },
      "source": [
        "RMSE2 = sqrt(mean_squared_error(y_val, y_predict))\n",
        "print(f'Root Mean squared Error: {RMSE2:.2f} ')"
      ],
      "execution_count": 250,
      "outputs": [
        {
          "output_type": "stream",
          "text": [
            "Root Mean squared Error: 24343836255125096.00 \n"
          ],
          "name": "stdout"
        }
      ]
    },
    {
      "cell_type": "code",
      "metadata": {
        "id": "F00DeJyToKv-",
        "colab_type": "code",
        "colab": {
          "base_uri": "https://localhost:8080/",
          "height": 35
        },
        "outputId": "1ddc2849-f200-4b5f-da3c-650951136b8b"
      },
      "source": [
        "#Model Intercept\n",
        "\n",
        "print(f'Intercept is {model.intercept_}')"
      ],
      "execution_count": 251,
      "outputs": [
        {
          "output_type": "stream",
          "text": [
            "Intercept is 181504.61349739318\n"
          ],
          "name": "stdout"
        }
      ]
    },
    {
      "cell_type": "code",
      "metadata": {
        "id": "QBJygUpHoNiQ",
        "colab_type": "code",
        "colab": {
          "base_uri": "https://localhost:8080/",
          "height": 54
        },
        "outputId": "95a9533d-2a72-4205-96d8-80925995226b"
      },
      "source": [
        "#Coefficient\n",
        "\n",
        "print(f'Coefficient is {model.coef_}')"
      ],
      "execution_count": 252,
      "outputs": [
        {
          "output_type": "stream",
          "text": [
            "Coefficient is [1.48825403e+17 1.07521265e+17 7.06417988e+16 7.16984239e+16\n",
            " 6.01792105e+16 4.60100000e+04]\n"
          ],
          "name": "stdout"
        }
      ]
    },
    {
      "cell_type": "markdown",
      "metadata": {
        "colab_type": "text",
        "id": "DidByDsrOa-o"
      },
      "source": [
        "# Stretch Goals, Regression\n",
        "- Make at least 2 visualizations to explore relationships between features and target. You may use any visualization library\n",
        "- Try at least 3 feature combinations. You may select features manually, or automatically\n",
        "- Report validation MAE and $R^2$ for each feature combination you try\n",
        "- Report test MAE and $R^2$ for your final model\n",
        "- Print or plot the coefficients for the features in your model"
      ]
    },
    {
      "cell_type": "code",
      "metadata": {
        "id": "NbWSV99e5j2b",
        "colab_type": "code",
        "colab": {}
      },
      "source": [
        ""
      ],
      "execution_count": 0,
      "outputs": []
    },
    {
      "cell_type": "markdown",
      "metadata": {
        "colab_type": "text",
        "id": "PdkjBN1Dy_-A"
      },
      "source": [
        "# Data Dictionary \n",
        "\n",
        "Here's a description of the data fields:\n",
        "\n",
        "```\n",
        "1st_Flr_SF: First Floor square feet\n",
        "\n",
        "Bedroom_AbvGr: Bedrooms above grade (does NOT include basement bedrooms)\n",
        "\n",
        "Bldg_Type: Type of dwelling\n",
        "\t\t\n",
        "       1Fam\tSingle-family Detached\t\n",
        "       2FmCon\tTwo-family Conversion; originally built as one-family dwelling\n",
        "       Duplx\tDuplex\n",
        "       TwnhsE\tTownhouse End Unit\n",
        "       TwnhsI\tTownhouse Inside Unit\n",
        "       \n",
        "Bsmt_Half_Bath: Basement half bathrooms\n",
        "\n",
        "Bsmt_Full_Bath: Basement full bathrooms\n",
        "\n",
        "Central_Air: Central air conditioning\n",
        "\n",
        "       N\tNo\n",
        "       Y\tYes\n",
        "\t\t\n",
        "Condition_1: Proximity to various conditions\n",
        "\t\n",
        "       Artery\tAdjacent to arterial street\n",
        "       Feedr\tAdjacent to feeder street\t\n",
        "       Norm\tNormal\t\n",
        "       RRNn\tWithin 200' of North-South Railroad\n",
        "       RRAn\tAdjacent to North-South Railroad\n",
        "       PosN\tNear positive off-site feature--park, greenbelt, etc.\n",
        "       PosA\tAdjacent to postive off-site feature\n",
        "       RRNe\tWithin 200' of East-West Railroad\n",
        "       RRAe\tAdjacent to East-West Railroad\n",
        "\t\n",
        "Condition_2: Proximity to various conditions (if more than one is present)\n",
        "\t\t\n",
        "       Artery\tAdjacent to arterial street\n",
        "       Feedr\tAdjacent to feeder street\t\n",
        "       Norm\tNormal\t\n",
        "       RRNn\tWithin 200' of North-South Railroad\n",
        "       RRAn\tAdjacent to North-South Railroad\n",
        "       PosN\tNear positive off-site feature--park, greenbelt, etc.\n",
        "       PosA\tAdjacent to postive off-site feature\n",
        "       RRNe\tWithin 200' of East-West Railroad\n",
        "       RRAe\tAdjacent to East-West Railroad\n",
        "       \n",
        " Electrical: Electrical system\n",
        "\n",
        "       SBrkr\tStandard Circuit Breakers & Romex\n",
        "       FuseA\tFuse Box over 60 AMP and all Romex wiring (Average)\t\n",
        "       FuseF\t60 AMP Fuse Box and mostly Romex wiring (Fair)\n",
        "       FuseP\t60 AMP Fuse Box and mostly knob & tube wiring (poor)\n",
        "       Mix\tMixed\n",
        "       \n",
        " Exter_Cond: Evaluates the present condition of the material on the exterior\n",
        "\t\t\n",
        "       Ex\tExcellent\n",
        "       Gd\tGood\n",
        "       TA\tAverage/Typical\n",
        "       Fa\tFair\n",
        "       Po\tPoor\n",
        " \n",
        " Exter_Qual: Evaluates the quality of the material on the exterior \n",
        "\t\t\n",
        "       Ex\tExcellent\n",
        "       Gd\tGood\n",
        "       TA\tAverage/Typical\n",
        "       Fa\tFair\n",
        "       Po\tPoor\n",
        "\t\t\n",
        "Exterior_1st: Exterior covering on house\n",
        "\n",
        "       AsbShng\tAsbestos Shingles\n",
        "       AsphShn\tAsphalt Shingles\n",
        "       BrkComm\tBrick Common\n",
        "       BrkFace\tBrick Face\n",
        "       CBlock\tCinder Block\n",
        "       CemntBd\tCement Board\n",
        "       HdBoard\tHard Board\n",
        "       ImStucc\tImitation Stucco\n",
        "       MetalSd\tMetal Siding\n",
        "       Other\tOther\n",
        "       Plywood\tPlywood\n",
        "       PreCast\tPreCast\t\n",
        "       Stone\tStone\n",
        "       Stucco\tStucco\n",
        "       VinylSd\tVinyl Siding\n",
        "       Wd Sdng\tWood Siding\n",
        "       WdShing\tWood Shingles\n",
        "\t\n",
        "Exterior_2nd: Exterior covering on house (if more than one material)\n",
        "\n",
        "       AsbShng\tAsbestos Shingles\n",
        "       AsphShn\tAsphalt Shingles\n",
        "       BrkComm\tBrick Common\n",
        "       BrkFace\tBrick Face\n",
        "       CBlock\tCinder Block\n",
        "       CemntBd\tCement Board\n",
        "       HdBoard\tHard Board\n",
        "       ImStucc\tImitation Stucco\n",
        "       MetalSd\tMetal Siding\n",
        "       Other\tOther\n",
        "       Plywood\tPlywood\n",
        "       PreCast\tPreCast\n",
        "       Stone\tStone\n",
        "       Stucco\tStucco\n",
        "       VinylSd\tVinyl Siding\n",
        "       Wd Sdng\tWood Siding\n",
        "       WdShing\tWood Shingles\n",
        "       \n",
        "Foundation: Type of foundation\n",
        "\t\t\n",
        "       BrkTil\tBrick & Tile\n",
        "       CBlock\tCinder Block\n",
        "       PConc\tPoured Contrete\t\n",
        "       Slab\tSlab\n",
        "       Stone\tStone\n",
        "       Wood\tWood\n",
        "\t\t\n",
        "Full_Bath: Full bathrooms above grade\n",
        "\n",
        "Functional: Home functionality (Assume typical unless deductions are warranted)\n",
        "\n",
        "       Typ\tTypical Functionality\n",
        "       Min1\tMinor Deductions 1\n",
        "       Min2\tMinor Deductions 2\n",
        "       Mod\tModerate Deductions\n",
        "       Maj1\tMajor Deductions 1\n",
        "       Maj2\tMajor Deductions 2\n",
        "       Sev\tSeverely Damaged\n",
        "       Sal\tSalvage only\n",
        "\t\t\n",
        "Gr_Liv_Area: Above grade (ground) living area square feet\n",
        "        \n",
        "Half_Bath: Half baths above grade\n",
        "\n",
        "Heating: Type of heating\n",
        "\t\t\n",
        "       Floor\tFloor Furnace\n",
        "       GasA\tGas forced warm air furnace\n",
        "       GasW\tGas hot water or steam heat\n",
        "       Grav\tGravity furnace\t\n",
        "       OthW\tHot water or steam heat other than gas\n",
        "       Wall\tWall furnace\n",
        "\t\t\n",
        "Heating_QC: Heating quality and condition\n",
        "\n",
        "       Ex\tExcellent\n",
        "       Gd\tGood\n",
        "       TA\tAverage/Typical\n",
        "       Fa\tFair\n",
        "       Po\tPoor\n",
        "\n",
        "House_Style: Style of dwelling\n",
        "\t\n",
        "       1Story\tOne story\n",
        "       1.5Fin\tOne and one-half story: 2nd level finished\n",
        "       1.5Unf\tOne and one-half story: 2nd level unfinished\n",
        "       2Story\tTwo story\n",
        "       2.5Fin\tTwo and one-half story: 2nd level finished\n",
        "       2.5Unf\tTwo and one-half story: 2nd level unfinished\n",
        "       SFoyer\tSplit Foyer\n",
        "       SLvl\tSplit Level\n",
        "\n",
        "Kitchen_AbvGr: Kitchens above grade\n",
        "\n",
        "Kitchen_Qual: Kitchen quality\n",
        "\n",
        "       Ex\tExcellent\n",
        "       Gd\tGood\n",
        "       TA\tTypical/Average\n",
        "       Fa\tFair\n",
        "       Po\tPoor\n",
        "\n",
        "LandContour: Flatness of the property\n",
        "\n",
        "       Lvl\tNear Flat/Level\t\n",
        "       Bnk\tBanked - Quick and significant rise from street grade to building\n",
        "       HLS\tHillside - Significant slope from side to side\n",
        "       Low\tDepression\n",
        "\t\t\n",
        "Land_Slope: Slope of property\n",
        "\t\t\n",
        "       Gtl\tGentle slope\n",
        "       Mod\tModerate Slope\t\n",
        "       Sev\tSevere Slope\n",
        "\n",
        "Lot_Area: Lot size in square feet\n",
        "\n",
        "Lot_Config: Lot configuration\n",
        "\n",
        "       Inside\tInside lot\n",
        "       Corner\tCorner lot\n",
        "       CulDSac\tCul-de-sac\n",
        "       FR2\tFrontage on 2 sides of property\n",
        "       FR3\tFrontage on 3 sides of property\n",
        "\n",
        "Lot_Shape: General shape of property\n",
        "\n",
        "       Reg\tRegular\t\n",
        "       IR1\tSlightly irregular\n",
        "       IR2\tModerately Irregular\n",
        "       IR3\tIrregular\n",
        "\n",
        "MS_SubClass: Identifies the type of dwelling involved in the sale.\t\n",
        "\n",
        "        20\t1-STORY 1946 & NEWER ALL STYLES\n",
        "        30\t1-STORY 1945 & OLDER\n",
        "        40\t1-STORY W/FINISHED ATTIC ALL AGES\n",
        "        45\t1-1/2 STORY - UNFINISHED ALL AGES\n",
        "        50\t1-1/2 STORY FINISHED ALL AGES\n",
        "        60\t2-STORY 1946 & NEWER\n",
        "        70\t2-STORY 1945 & OLDER\n",
        "        75\t2-1/2 STORY ALL AGES\n",
        "        80\tSPLIT OR MULTI-LEVEL\n",
        "        85\tSPLIT FOYER\n",
        "        90\tDUPLEX - ALL STYLES AND AGES\n",
        "       120\t1-STORY PUD (Planned Unit Development) - 1946 & NEWER\n",
        "       150\t1-1/2 STORY PUD - ALL AGES\n",
        "       160\t2-STORY PUD - 1946 & NEWER\n",
        "       180\tPUD - MULTILEVEL - INCL SPLIT LEV/FOYER\n",
        "       190\t2 FAMILY CONVERSION - ALL STYLES AND AGES\n",
        "\n",
        "MS_Zoning: Identifies the general zoning classification of the sale.\n",
        "\t\t\n",
        "       A\tAgriculture\n",
        "       C\tCommercial\n",
        "       FV\tFloating Village Residential\n",
        "       I\tIndustrial\n",
        "       RH\tResidential High Density\n",
        "       RL\tResidential Low Density\n",
        "       RP\tResidential Low Density Park \n",
        "       RM\tResidential Medium Density\n",
        "\n",
        "Mas_Vnr_Type: Masonry veneer type\n",
        "\n",
        "       BrkCmn\tBrick Common\n",
        "       BrkFace\tBrick Face\n",
        "       CBlock\tCinder Block\n",
        "       None\tNone\n",
        "       Stone\tStone\n",
        "\n",
        "Mo_Sold: Month Sold (MM)\n",
        "\n",
        "Neighborhood: Physical locations within Ames city limits\n",
        "\n",
        "       Blmngtn\tBloomington Heights\n",
        "       Blueste\tBluestem\n",
        "       BrDale\tBriardale\n",
        "       BrkSide\tBrookside\n",
        "       ClearCr\tClear Creek\n",
        "       CollgCr\tCollege Creek\n",
        "       Crawfor\tCrawford\n",
        "       Edwards\tEdwards\n",
        "       Gilbert\tGilbert\n",
        "       IDOTRR\tIowa DOT and Rail Road\n",
        "       MeadowV\tMeadow Village\n",
        "       Mitchel\tMitchell\n",
        "       Names\tNorth Ames\n",
        "       NoRidge\tNorthridge\n",
        "       NPkVill\tNorthpark Villa\n",
        "       NridgHt\tNorthridge Heights\n",
        "       NWAmes\tNorthwest Ames\n",
        "       OldTown\tOld Town\n",
        "       SWISU\tSouth & West of Iowa State University\n",
        "       Sawyer\tSawyer\n",
        "       SawyerW\tSawyer West\n",
        "       Somerst\tSomerset\n",
        "       StoneBr\tStone Brook\n",
        "       Timber\tTimberland\n",
        "       Veenker\tVeenker\n",
        "\t\t\t\n",
        "Overall_Cond: Rates the overall condition of the house\n",
        "\n",
        "       10\tVery Excellent\n",
        "       9\tExcellent\n",
        "       8\tVery Good\n",
        "       7\tGood\n",
        "       6\tAbove Average\t\n",
        "       5\tAverage\n",
        "       4\tBelow Average\t\n",
        "       3\tFair\n",
        "       2\tPoor\n",
        "       1\tVery Poor\n",
        "\n",
        "Overall_Qual: Rates the overall material and finish of the house\n",
        "\n",
        "       10\tVery Excellent\n",
        "       9\tExcellent\n",
        "       8\tVery Good\n",
        "       7\tGood\n",
        "       6\tAbove Average\n",
        "       5\tAverage\n",
        "       4\tBelow Average\n",
        "       3\tFair\n",
        "       2\tPoor\n",
        "       1\tVery Poor\n",
        "\n",
        "Paved_Drive: Paved driveway\n",
        "\n",
        "       Y\tPaved \n",
        "       P\tPartial Pavement\n",
        "       N\tDirt/Gravel\n",
        "\n",
        "Roof_Matl: Roof material\n",
        "\n",
        "       ClyTile\tClay or Tile\n",
        "       CompShg\tStandard (Composite) Shingle\n",
        "       Membran\tMembrane\n",
        "       Metal\tMetal\n",
        "       Roll\tRoll\n",
        "       Tar&Grv\tGravel & Tar\n",
        "       WdShake\tWood Shakes\n",
        "       WdShngl\tWood Shingles\n",
        "\n",
        "Roof_Style: Type of roof\n",
        "\n",
        "       Flat\tFlat\n",
        "       Gable\tGable\n",
        "       Gambrel\tGabrel (Barn)\n",
        "       Hip\tHip\n",
        "       Mansard\tMansard\n",
        "       Shed\tShed\n",
        "\n",
        "SalePrice: the sales price for each house\n",
        "\n",
        "Sale_Condition: Condition of sale\n",
        "\n",
        "       Normal\tNormal Sale\n",
        "       Abnorml\tAbnormal Sale -  trade, foreclosure, short sale\n",
        "       AdjLand\tAdjoining Land Purchase\n",
        "       Alloca\tAllocation - two linked properties with separate deeds, typically condo with a garage unit\t\n",
        "       Family\tSale between family members\n",
        "       Partial\tHome was not completed when last assessed (associated with New Homes)\n",
        "\n",
        "Sale_Type: Type of sale\n",
        "\t\t\n",
        "       WD \tWarranty Deed - Conventional\n",
        "       CWD\tWarranty Deed - Cash\n",
        "       VWD\tWarranty Deed - VA Loan\n",
        "       New\tHome just constructed and sold\n",
        "       COD\tCourt Officer Deed/Estate\n",
        "       Con\tContract 15% Down payment regular terms\n",
        "       ConLw\tContract Low Down payment and low interest\n",
        "       ConLI\tContract Low Interest\n",
        "       ConLD\tContract Low Down\n",
        "       Oth\tOther\n",
        "\t\n",
        "Street: Type of road access to property\n",
        "\n",
        "       Grvl\tGravel\t\n",
        "       Pave\tPaved\n",
        "       \t\n",
        "TotRms_AbvGrd: Total rooms above grade (does not include bathrooms)\n",
        "\n",
        "Utilities: Type of utilities available\n",
        "\t\t\n",
        "       AllPub\tAll public Utilities (E,G,W,& S)\t\n",
        "       NoSewr\tElectricity, Gas, and Water (Septic Tank)\n",
        "       NoSeWa\tElectricity and Gas Only\n",
        "       ELO\tElectricity only\t\n",
        "\t\n",
        "Year_Built: Original construction date\n",
        "\n",
        "Year_Remod/Add: Remodel date (same as construction date if no remodeling or additions)\n",
        "\t\t\t\t\t\t\n",
        "Yr_Sold: Year Sold (YYYY)\t\n",
        "\n",
        "```"
      ]
    }
  ]
}